{
 "cells": [
  {
   "cell_type": "markdown",
   "id": "cc8a0766",
   "metadata": {},
   "source": [
    "\n",
    "# Python Sets - A Complete Guide\n",
    "\n",
    "This notebook will cover everything about Python sets — from basic concepts to advanced operations.\n"
   ]
  },
  {
   "cell_type": "markdown",
   "id": "5bf1a4e5",
   "metadata": {},
   "source": [
    "## 1. Introduction to Sets"
   ]
  },
  {
   "cell_type": "markdown",
   "id": "37983134",
   "metadata": {},
   "source": [
    "\n",
    "### What is a Set?\n",
    "- A set is an **unordered** collection of unique elements.  \n",
    "- Sets are defined using **curly braces `{}`** or the `set()` constructor.  \n",
    "- Sets do **not allow duplicate values**.  \n",
    "- Sets are mutable (but their elements must be immutable).  \n",
    "\n",
    "### Why use Sets?\n",
    "- Fast membership testing.  \n",
    "- Removing duplicates from a collection.  \n",
    "- Mathematical operations like union, intersection, etc.  \n",
    "\n",
    "### Creating a Set\n",
    "You can create a set using:\n",
    "1. Curly braces `{}`  \n",
    "2. `set()` constructor  \n"
   ]
  },
  {
   "cell_type": "code",
   "execution_count": null,
   "id": "137bdcb4",
   "metadata": {},
   "outputs": [],
   "source": [
    "# Creating sets using curly braces\n",
    "my_set = {1, 2, 3, 4, 5}\n",
    "print(my_set)\n",
    "\n",
    "# Creating a set using the set() constructor\n",
    "another_set = set((6, 7, 8, 9, 10))\n",
    "print(another_set)\n",
    "\n",
    "# Creating an empty set\n",
    "empty_set = set()\n",
    "print(empty_set)\n",
    "\n",
    "# Creating a set with duplicate values (duplicates will be removed)\n",
    "set_with_duplicates = {1, 2, 2, 3, 4, 4, 5}\n",
    "print(set_with_duplicates)"
   ]
  },
  {
   "cell_type": "markdown",
   "id": "4896344e",
   "metadata": {},
   "source": [
    "## 2. Accessing Elements"
   ]
  },
  {
   "cell_type": "markdown",
   "id": "2a37cbff",
   "metadata": {},
   "source": [
    "\n",
    "- Sets are **unordered**, so elements cannot be accessed using an index.  \n",
    "- You can check for the existence of an element using the `in` keyword.  \n"
   ]
  },
  {
   "cell_type": "code",
   "execution_count": null,
   "id": "ea04a600",
   "metadata": {},
   "outputs": [],
   "source": [
    "my_set = {1, 2, 3, 4, 5}\n",
    "\n",
    "# Checking if an element exists\n",
    "print(3 in my_set)\n",
    "print(6 in my_set)"
   ]
  },
  {
   "cell_type": "markdown",
   "id": "de1e8561",
   "metadata": {},
   "source": [
    "## 3. Adding Elements to a Set"
   ]
  },
  {
   "cell_type": "code",
   "execution_count": null,
   "id": "b285af6c",
   "metadata": {},
   "outputs": [],
   "source": [
    "# add() - Adds a single element\n",
    "my_set = {1, 2, 3}\n",
    "my_set.add(4)\n",
    "print(my_set)\n",
    "\n",
    "# update() - Adds multiple elements\n",
    "my_set.update([5, 6, 7])\n",
    "print(my_set)"
   ]
  },
  {
   "cell_type": "markdown",
   "id": "3b89dcae",
   "metadata": {},
   "source": [
    "## 4. Removing Elements from a Set"
   ]
  },
  {
   "cell_type": "code",
   "execution_count": null,
   "id": "43940658",
   "metadata": {},
   "outputs": [],
   "source": [
    "# remove() - Removes element (throws error if element not found)\n",
    "my_set = {1, 2, 3, 4, 5}\n",
    "my_set.remove(3)\n",
    "print(my_set)\n",
    "\n",
    "# discard() - Removes element (does NOT throw error if element not found)\n",
    "my_set.discard(6)\n",
    "print(my_set)\n",
    "\n",
    "# pop() - Removes and returns a random element\n",
    "removed_element = my_set.pop()\n",
    "print(\"Removed:\", removed_element)\n",
    "print(my_set)\n",
    "\n",
    "# clear() - Removes all elements\n",
    "my_set.clear()\n",
    "print(my_set)"
   ]
  },
  {
   "cell_type": "markdown",
   "id": "3237d71d",
   "metadata": {},
   "source": [
    "## 5. Mathematical Set Operations"
   ]
  },
  {
   "cell_type": "code",
   "execution_count": null,
   "id": "4009821d",
   "metadata": {},
   "outputs": [],
   "source": [
    "set1 = {1, 2, 3, 4, 5}\n",
    "set2 = {4, 5, 6, 7, 8}\n",
    "\n",
    "# Union - Combines elements from both sets\n",
    "print(set1.union(set2))\n",
    "\n",
    "# Intersection - Common elements in both sets\n",
    "print(set1.intersection(set2))\n",
    "\n",
    "# Difference - Elements in set1 but not in set2\n",
    "print(set1.difference(set2))\n",
    "\n",
    "# Symmetric Difference - Elements in either set, but not both\n",
    "print(set1.symmetric_difference(set2))"
   ]
  },
  {
   "cell_type": "markdown",
   "id": "b0064c66",
   "metadata": {},
   "source": [
    "## 6. Checking Subset and Superset"
   ]
  },
  {
   "cell_type": "code",
   "execution_count": null,
   "id": "46d8f58d",
   "metadata": {},
   "outputs": [],
   "source": [
    "set1 = {1, 2, 3}\n",
    "set2 = {1, 2, 3, 4, 5}\n",
    "\n",
    "# issubset() - Check if set1 is a subset of set2\n",
    "print(set1.issubset(set2))\n",
    "\n",
    "# issuperset() - Check if set2 is a superset of set1\n",
    "print(set2.issuperset(set1))"
   ]
  },
  {
   "cell_type": "markdown",
   "id": "a3a5267f",
   "metadata": {},
   "source": [
    "## 7. Looping Through Sets"
   ]
  },
  {
   "cell_type": "code",
   "execution_count": null,
   "id": "d1c393f5",
   "metadata": {},
   "outputs": [],
   "source": [
    "# Using a for loop\n",
    "my_set = {1, 2, 3, 4, 5}\n",
    "for item in my_set:\n",
    "    print(item)"
   ]
  },
  {
   "cell_type": "markdown",
   "id": "127d5f6e",
   "metadata": {},
   "source": [
    "## 8. Frozen Sets"
   ]
  },
  {
   "cell_type": "markdown",
   "id": "7770e67e",
   "metadata": {},
   "source": [
    "\n",
    "- A `frozenset` is an **immutable** version of a set.  \n",
    "- Once created, elements in a `frozenset` cannot be changed.  \n"
   ]
  },
  {
   "cell_type": "code",
   "execution_count": null,
   "id": "1f34f7dd",
   "metadata": {},
   "outputs": [],
   "source": [
    "# Creating a frozenset\n",
    "frozen = frozenset([1, 2, 3, 4, 5])\n",
    "print(frozen)\n",
    "\n",
    "# Attempting to modify a frozenset will result in an error\n",
    "# frozen.add(6) # TypeError"
   ]
  },
  {
   "cell_type": "markdown",
   "id": "bbb74e70",
   "metadata": {},
   "source": [
    "## 9. Copying Sets"
   ]
  },
  {
   "cell_type": "code",
   "execution_count": null,
   "id": "74c06f77",
   "metadata": {},
   "outputs": [],
   "source": [
    "# Shallow copy\n",
    "original = {1, 2, 3}\n",
    "copied = original.copy()\n",
    "copied.add(4)\n",
    "print(\"Original:\", original)\n",
    "print(\"Copied:\", copied)"
   ]
  },
  {
   "cell_type": "markdown",
   "id": "43e4abd5",
   "metadata": {},
   "source": [
    "## 10. Set vs Other Data Types"
   ]
  },
  {
   "cell_type": "markdown",
   "id": "c8fe02a9",
   "metadata": {},
   "source": [
    "\n",
    "| Feature | Set | List | Tuple |\n",
    "|---------|-----|------|-------|\n",
    "| Order | Unordered | Ordered | Ordered |\n",
    "| Duplicates | Not allowed | Allowed | Allowed |\n",
    "| Mutability | Mutable | Mutable | Immutable |\n",
    "| Indexing | Not allowed | Allowed | Allowed |\n"
   ]
  },
  {
   "cell_type": "markdown",
   "id": "47de376b",
   "metadata": {},
   "source": [
    "## 11. Common Pitfalls and How to Avoid Them"
   ]
  },
  {
   "cell_type": "markdown",
   "id": "19a0f925",
   "metadata": {},
   "source": [
    "\n",
    "- Trying to access elements by index (sets are unordered).  \n",
    "- Forgetting that sets do not allow duplicate values.  \n",
    "- Attempting to modify elements inside a frozenset.  \n"
   ]
  },
  {
   "cell_type": "markdown",
   "id": "2a0d0523",
   "metadata": {},
   "source": [
    "## 12. Best Practices"
   ]
  },
  {
   "cell_type": "markdown",
   "id": "9e162338",
   "metadata": {},
   "source": [
    "\n",
    "- Use sets when you need unique values.  \n",
    "- Use sets for fast membership tests (`in` operator).  \n",
    "- Use frozenset when you need an immutable set.  \n"
   ]
  },
  {
   "cell_type": "markdown",
   "id": "cbf73afa",
   "metadata": {},
   "source": [
    "## 13. Exercises and Challenges"
   ]
  },
  {
   "cell_type": "markdown",
   "id": "c7ac9209",
   "metadata": {},
   "source": [
    "\n",
    "✅ **Beginner:** Create a set and add/remove elements.  \n",
    "✅ **Intermediate:** Perform union, intersection, and difference operations.  \n",
    "✅ **Advanced:** Create a frozenset and attempt to modify it (expect an error).  \n"
   ]
  }
 ],
 "metadata": {},
 "nbformat": 4,
 "nbformat_minor": 5
}