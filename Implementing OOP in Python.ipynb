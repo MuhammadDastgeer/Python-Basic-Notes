{
 "cells": [
  {
   "cell_type": "markdown",
   "id": "736937f8",
   "metadata": {},
   "source": [
    "## Object-Oriented Programming (OOP) in Python\n"
   ]
  },
  {
   "cell_type": "markdown",
   "id": "88beea28",
   "metadata": {},
   "source": [
    "Object-Oriented Programming is a programming paradigm that organizes code into objects that contain both data (attributes) and behavior (methods). Python fully supports OOP with its class system.\n"
   ]
  },
  {
   "cell_type": "markdown",
   "id": "264dcf7f",
   "metadata": {},
   "source": [
    "### Basic Concepts\n"
   ]
  },
  {
   "cell_type": "code",
   "execution_count": null,
   "id": "8f8a6b2e",
   "metadata": {},
   "outputs": [],
   "source": [
    "class any_name:\n",
    "    def __init__(self):\n",
    "        pass"
   ]
  },
  {
   "cell_type": "code",
   "execution_count": 5,
   "id": "3f21f747",
   "metadata": {},
   "outputs": [
    {
     "name": "stdout",
     "output_type": "stream",
     "text": [
      "red\n"
     ]
    }
   ],
   "source": [
    "class House:\n",
    "    def __init__(self, color , size):\n",
    "        self.color = color\n",
    "        self.size = size\n",
    "my_house = House('red', 'large')\n",
    "print(my_house.color)"
   ]
  },
  {
   "cell_type": "code",
   "execution_count": 8,
   "id": "dad35ebe",
   "metadata": {},
   "outputs": [
    {
     "data": {
      "text/plain": [
       "<bound method House.describe of <__main__.House object at 0x000001DA72461340>>"
      ]
     },
     "execution_count": 8,
     "metadata": {},
     "output_type": "execute_result"
    }
   ],
   "source": [
    "class House:\n",
    "    def __init__(self, color , size):\n",
    "        self.color = color\n",
    "        self.size = size\n",
    "\n",
    "    def describe(self):\n",
    "        print('The House is {self.color} and {self.size}.')\n",
    "\n",
    "my_house = House('red', 'large')\n",
    "\n",
    "my_house.describe"
   ]
  },
  {
   "cell_type": "code",
   "execution_count": 1,
   "id": "e309ba32",
   "metadata": {},
   "outputs": [],
   "source": [
    "class Account:\n",
    "    def __init__(self, balance):\n",
    "        self.__balance = balance  # private attribute\n",
    "\n",
    "    def deposit(self, amount):\n",
    "        self.__balance += amount\n",
    "\n",
    "    def get_balance(self):\n",
    "        return self.__balance\n"
   ]
  },
  {
   "cell_type": "code",
   "execution_count": 1,
   "id": "bf3dd8db",
   "metadata": {},
   "outputs": [
    {
     "name": "stdout",
     "output_type": "stream",
     "text": [
      "1500\n"
     ]
    }
   ],
   "source": [
    "class BankAccount:\n",
    "    def __init__(self, balance):\n",
    "        self.__balance = balance  # private attribute\n",
    "\n",
    "    def deposit(self, amount):\n",
    "        self.__balance += amount\n",
    "\n",
    "    def get_balance(self):\n",
    "        return self.__balance\n",
    "\n",
    "acc = BankAccount(1000)\n",
    "acc.deposit(500)\n",
    "print(acc.get_balance())  # 1500\n"
   ]
  },
  {
   "cell_type": "code",
   "execution_count": null,
   "id": "a6371689",
   "metadata": {},
   "outputs": [
    {
     "name": "stdout",
     "output_type": "stream",
     "text": [
      "Dog barks\n"
     ]
    }
   ],
   "source": [
    "class Animal:\n",
    "    def speak(self):\n",
    "        print(\"Animal speaks\")\n",
    "\n",
    "class Dog(Animal):\n",
    "    def speak(self):\n",
    "        print(\"Dog barks\")\n",
    "\n",
    "d = Dog()\n",
    "d.speak()  # Output: Dog barks\n"
   ]
  },
  {
   "cell_type": "code",
   "execution_count": 3,
   "id": "7a708459",
   "metadata": {},
   "outputs": [
    {
     "name": "stdout",
     "output_type": "stream",
     "text": [
      "Meow\n",
      "Moo\n"
     ]
    }
   ],
   "source": [
    "class Cat:\n",
    "    def speak(self):\n",
    "        print(\"Meow\")\n",
    "\n",
    "class Cow:\n",
    "    def speak(self):\n",
    "        print(\"Moo\")\n",
    "\n",
    "def animal_sound(animal):\n",
    "    animal.speak()\n",
    "\n",
    "animal_sound(Cat())  # Output: Meow\n",
    "animal_sound(Cow())  # Output: Moo\n"
   ]
  },
  {
   "cell_type": "code",
   "execution_count": 4,
   "id": "ba110f27",
   "metadata": {},
   "outputs": [
    {
     "name": "stdout",
     "output_type": "stream",
     "text": [
      "Book: Python Basics\n"
     ]
    }
   ],
   "source": [
    "class Book:\n",
    "    def __init__(self, title):\n",
    "        self.title = title\n",
    "\n",
    "    def __str__(self):\n",
    "        return f\"Book: {self.title}\"\n",
    "\n",
    "b = Book(\"Python Basics\")\n",
    "print(b)  # Output: Book: Python Basics\n"
   ]
  },
  {
   "cell_type": "markdown",
   "id": "99ebc92f",
   "metadata": {},
   "source": [
    "## Class Method\n"
   ]
  },
  {
   "cell_type": "code",
   "execution_count": 3,
   "id": "252b06c5",
   "metadata": {},
   "outputs": [
    {
     "name": "stdout",
     "output_type": "stream",
     "text": [
      "2025 4 28\n"
     ]
    }
   ],
   "source": [
    "class Date:\n",
    "    def __init__(self, year, month, day):\n",
    "        self.year = year\n",
    "        self.month = month\n",
    "        self.day = day\n",
    "\n",
    "    @classmethod\n",
    "    def from_string(cls, date_string):\n",
    "        year, month, day = map(int, date_string.split('-'))\n",
    "        return cls(year, month, day)\n",
    "\n",
    "d = Date.from_string('2025-04-28')\n",
    "print(d.year, d.month, d.day)\n"
   ]
  },
  {
   "cell_type": "code",
   "execution_count": null,
   "id": "91c69517",
   "metadata": {},
   "outputs": [
    {
     "name": "stdout",
     "output_type": "stream",
     "text": [
      "2\n"
     ]
    }
   ],
   "source": [
    "class Person:\n",
    "    population = 0\n",
    "\n",
    "    def __init__(self, name):\n",
    "        self.name = name\n",
    "        Person.increase_population()\n",
    "\n",
    "    @classmethod\n",
    "    def increase_population(cls):\n",
    "        cls.population += 1\n",
    "\n",
    "p1 = Person(\"Alice\")\n",
    "p2 = Person(\"Bob\")\n",
    "\n",
    "print(Person.population)  # Output: 2\n"
   ]
  },
  {
   "cell_type": "markdown",
   "id": "274053a6",
   "metadata": {},
   "source": [
    "## Common OOP \"Magic Methods\" in Python\n"
   ]
  },
  {
   "cell_type": "markdown",
   "id": "664cc7ea",
   "metadata": {},
   "source": [
    "1. **init**(self, ...)\n"
   ]
  },
  {
   "cell_type": "code",
   "execution_count": 4,
   "id": "e7047a07",
   "metadata": {},
   "outputs": [
    {
     "name": "stdout",
     "output_type": "stream",
     "text": [
      "Alice\n"
     ]
    }
   ],
   "source": [
    "class Person:\n",
    "    def __init__(self, name):\n",
    "        self.name = name\n",
    "\n",
    "p = Person(\"Alice\")\n",
    "print(p.name)  # Alice\n"
   ]
  },
  {
   "cell_type": "markdown",
   "id": "88701b18",
   "metadata": {},
   "source": [
    "2. **str**(self)\n"
   ]
  },
  {
   "cell_type": "code",
   "execution_count": 8,
   "id": "7a37906c",
   "metadata": {},
   "outputs": [
    {
     "name": "stdout",
     "output_type": "stream",
     "text": [
      "This is a person\n"
     ]
    }
   ],
   "source": [
    "class Person:\n",
    "    def __str__(self):\n",
    "        return \"This is a person\"\n",
    "\n",
    "p = Person()\n",
    "print(p)  # This is a person\n"
   ]
  },
  {
   "cell_type": "markdown",
   "id": "635dac07",
   "metadata": {},
   "source": [
    "3. **repr**(self)\n"
   ]
  },
  {
   "cell_type": "code",
   "execution_count": 9,
   "id": "be1a423b",
   "metadata": {},
   "outputs": [
    {
     "name": "stdout",
     "output_type": "stream",
     "text": [
      "Person(name='Alice')\n"
     ]
    }
   ],
   "source": [
    "class Person:\n",
    "    def __repr__(self):\n",
    "        return \"Person(name='Alice')\"\n",
    "\n",
    "p = Person()\n",
    "print(repr(p))  # Person(name='Alice')\n"
   ]
  },
  {
   "cell_type": "markdown",
   "id": "84ee7d69",
   "metadata": {},
   "source": [
    "4. **del**(self)\n"
   ]
  },
  {
   "cell_type": "code",
   "execution_count": 10,
   "id": "53b5395e",
   "metadata": {},
   "outputs": [
    {
     "name": "stdout",
     "output_type": "stream",
     "text": [
      "Person deleted\n"
     ]
    }
   ],
   "source": [
    "class Person:\n",
    "    def __del__(self):\n",
    "        print(\"Person deleted\")\n",
    "\n",
    "p = Person()\n",
    "del p  # Output: Person deleted\n"
   ]
  },
  {
   "cell_type": "markdown",
   "id": "c7f4f1ee",
   "metadata": {},
   "source": [
    "5. **call**(self, ...)\n"
   ]
  },
  {
   "cell_type": "code",
   "execution_count": 11,
   "id": "864c4538",
   "metadata": {},
   "outputs": [
    {
     "name": "stdout",
     "output_type": "stream",
     "text": [
      "Hello!\n"
     ]
    }
   ],
   "source": [
    "class Greeter:\n",
    "    def __call__(self):\n",
    "        print(\"Hello!\")\n",
    "\n",
    "g = Greeter()\n",
    "g()  # Hello!\n"
   ]
  },
  {
   "cell_type": "markdown",
   "id": "ec53df65",
   "metadata": {},
   "source": [
    "6. **len**(self)\n"
   ]
  },
  {
   "cell_type": "code",
   "execution_count": 12,
   "id": "338a6ac4",
   "metadata": {},
   "outputs": [
    {
     "name": "stdout",
     "output_type": "stream",
     "text": [
      "2\n"
     ]
    }
   ],
   "source": [
    "class Team:\n",
    "    def __init__(self, members):\n",
    "        self.members = members\n",
    "\n",
    "    def __len__(self):\n",
    "        return len(self.members)\n",
    "\n",
    "team = Team([\"Alice\", \"Bob\"])\n",
    "print(len(team))  # 2\n"
   ]
  },
  {
   "cell_type": "markdown",
   "id": "bb5268c3",
   "metadata": {},
   "source": [
    "7. **getitem**(self, key), **setitem**(self, key, value)\n"
   ]
  },
  {
   "cell_type": "code",
   "execution_count": 13,
   "id": "1e09d1db",
   "metadata": {},
   "outputs": [
    {
     "name": "stdout",
     "output_type": "stream",
     "text": [
      "2\n",
      "10\n"
     ]
    }
   ],
   "source": [
    "class MyList:\n",
    "    def __init__(self, data):\n",
    "        self.data = data\n",
    "\n",
    "    def __getitem__(self, index):\n",
    "        return self.data[index]\n",
    "\n",
    "    def __setitem__(self, index, value):\n",
    "        self.data[index] = value\n",
    "\n",
    "l = MyList([1, 2, 3])\n",
    "print(l[1])  # 2\n",
    "l[1] = 10\n",
    "print(l[1])  # 10\n"
   ]
  },
  {
   "cell_type": "markdown",
   "id": "9dc7370c",
   "metadata": {},
   "source": [
    "8. **iter**(self), **next**(self)\n"
   ]
  },
  {
   "cell_type": "code",
   "execution_count": 14,
   "id": "d9d3a43e",
   "metadata": {},
   "outputs": [
    {
     "name": "stdout",
     "output_type": "stream",
     "text": [
      "0\n",
      "1\n",
      "2\n"
     ]
    }
   ],
   "source": [
    "class Counter:\n",
    "    def __init__(self, start, end):\n",
    "        self.current = start\n",
    "        self.end = end\n",
    "\n",
    "    def __iter__(self):\n",
    "        return self\n",
    "\n",
    "    def __next__(self):\n",
    "        if self.current >= self.end:\n",
    "            raise StopIteration\n",
    "        self.current += 1\n",
    "        return self.current - 1\n",
    "\n",
    "c = Counter(0, 3)\n",
    "for num in c:\n",
    "    print(num)\n",
    "# 0\n",
    "# 1\n",
    "# 2\n"
   ]
  },
  {
   "cell_type": "markdown",
   "id": "c9221132",
   "metadata": {},
   "source": [
    "9.  **eq**, **lt**\n"
   ]
  },
  {
   "cell_type": "code",
   "execution_count": 15,
   "id": "1c4588ef",
   "metadata": {},
   "outputs": [
    {
     "name": "stdout",
     "output_type": "stream",
     "text": [
      "True\n"
     ]
    }
   ],
   "source": [
    "class Person:\n",
    "    def __init__(self, age):\n",
    "        self.age = age\n",
    "\n",
    "    def __eq__(self, other):\n",
    "        return self.age == other.age\n",
    "\n",
    "p1 = Person(20)\n",
    "p2 = Person(20)\n",
    "print(p1 == p2)  # True\n"
   ]
  },
  {
   "cell_type": "markdown",
   "id": "edd339fa",
   "metadata": {},
   "source": [
    "10. **add**(self, other)\n"
   ]
  },
  {
   "cell_type": "code",
   "execution_count": 18,
   "id": "ff5bd197",
   "metadata": {},
   "outputs": [
    {
     "name": "stdout",
     "output_type": "stream",
     "text": [
      "250\n"
     ]
    }
   ],
   "source": [
    "class Money:\n",
    "    def __init__(self, amount):\n",
    "        self.amount = amount\n",
    "\n",
    "    def __add__(self, other):\n",
    "        return Money(self.amount + other.amount)\n",
    "\n",
    "m1 = Money(100)\n",
    "m2 = Money(150)\n",
    "m3 = m1 + m2\n",
    "print(m3.amount)  # 250\n"
   ]
  }
 ],
 "metadata": {
  "kernelspec": {
   "display_name": "base",
   "language": "python",
   "name": "python3"
  },
  "language_info": {
   "codemirror_mode": {
    "name": "ipython",
    "version": 3
   },
   "file_extension": ".py",
   "mimetype": "text/x-python",
   "name": "python",
   "nbconvert_exporter": "python",
   "pygments_lexer": "ipython3",
   "version": "3.12.9"
  }
 },
 "nbformat": 4,
 "nbformat_minor": 5
}
