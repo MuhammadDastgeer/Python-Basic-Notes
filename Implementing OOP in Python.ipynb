{
 "cells": [
  {
   "cell_type": "markdown",
   "id": "736937f8",
   "metadata": {},
   "source": [
    "## Object-Oriented Programming (OOP) in Python\n"
   ]
  },
  {
   "cell_type": "markdown",
   "id": "88beea28",
   "metadata": {},
   "source": [
    "Object-Oriented Programming is a programming paradigm that organizes code into objects that contain both data (attributes) and behavior (methods). Python fully supports OOP with its class system.\n"
   ]
  },
  {
   "cell_type": "markdown",
   "id": "264dcf7f",
   "metadata": {},
   "source": [
    "### Basic Concepts\n"
   ]
  },
  {
   "cell_type": "code",
   "execution_count": null,
   "id": "8f8a6b2e",
   "metadata": {},
   "outputs": [],
   "source": [
    "class any_name:\n",
    "    def __init__(self):\n",
    "        pass"
   ]
  },
  {
   "cell_type": "code",
   "execution_count": 5,
   "id": "3f21f747",
   "metadata": {},
   "outputs": [
    {
     "name": "stdout",
     "output_type": "stream",
     "text": [
      "red\n"
     ]
    }
   ],
   "source": [
    "class House:\n",
    "    def __init__(self, color , size):\n",
    "        self.color = color\n",
    "        self.size = size\n",
    "my_house = House('red', 'large')\n",
    "print(my_house.color)"
   ]
  },
  {
   "cell_type": "code",
   "execution_count": 8,
   "id": "dad35ebe",
   "metadata": {},
   "outputs": [
    {
     "data": {
      "text/plain": [
       "<bound method House.describe of <__main__.House object at 0x000001DA72461340>>"
      ]
     },
     "execution_count": 8,
     "metadata": {},
     "output_type": "execute_result"
    }
   ],
   "source": [
    "class House:\n",
    "    def __init__(self, color , size):\n",
    "        self.color = color\n",
    "        self.size = size\n",
    "\n",
    "    def describe(self):\n",
    "        print('The House is {self.color} and {self.size}.')\n",
    "\n",
    "my_house = House('red', 'large')\n",
    "\n",
    "my_house.describe"
   ]
  },
  {
   "cell_type": "code",
   "execution_count": 1,
   "id": "e309ba32",
   "metadata": {},
   "outputs": [],
   "source": [
    "class Account:\n",
    "    def __init__(self, balance):\n",
    "        self.__balance = balance  # private attribute\n",
    "\n",
    "    def deposit(self, amount):\n",
    "        self.__balance += amount\n",
    "\n",
    "    def get_balance(self):\n",
    "        return self.__balance\n"
   ]
  },
  {
   "cell_type": "code",
   "execution_count": 2,
   "id": "a6371689",
   "metadata": {},
   "outputs": [
    {
     "name": "stdout",
     "output_type": "stream",
     "text": [
      "Dog barks\n"
     ]
    }
   ],
   "source": [
    "class Animal:\n",
    "    def speak(self):\n",
    "        print(\"Animal speaks\")\n",
    "\n",
    "class Dog(Animal):\n",
    "    def speak(self):\n",
    "        print(\"Dog barks\")\n",
    "\n",
    "d = Dog()\n",
    "d.speak()  # Output: Dog barks\n"
   ]
  },
  {
   "cell_type": "code",
   "execution_count": 3,
   "id": "7a708459",
   "metadata": {},
   "outputs": [
    {
     "name": "stdout",
     "output_type": "stream",
     "text": [
      "Meow\n",
      "Moo\n"
     ]
    }
   ],
   "source": [
    "class Cat:\n",
    "    def speak(self):\n",
    "        print(\"Meow\")\n",
    "\n",
    "class Cow:\n",
    "    def speak(self):\n",
    "        print(\"Moo\")\n",
    "\n",
    "def animal_sound(animal):\n",
    "    animal.speak()\n",
    "\n",
    "animal_sound(Cat())  # Output: Meow\n",
    "animal_sound(Cow())  # Output: Moo\n"
   ]
  },
  {
   "cell_type": "code",
   "execution_count": 4,
   "id": "ba110f27",
   "metadata": {},
   "outputs": [
    {
     "name": "stdout",
     "output_type": "stream",
     "text": [
      "Book: Python Basics\n"
     ]
    }
   ],
   "source": [
    "class Book:\n",
    "    def __init__(self, title):\n",
    "        self.title = title\n",
    "\n",
    "    def __str__(self):\n",
    "        return f\"Book: {self.title}\"\n",
    "\n",
    "b = Book(\"Python Basics\")\n",
    "print(b)  # Output: Book: Python Basics\n"
   ]
  }
 ],
 "metadata": {
  "kernelspec": {
   "display_name": "base",
   "language": "python",
   "name": "python3"
  },
  "language_info": {
   "codemirror_mode": {
    "name": "ipython",
    "version": 3
   },
   "file_extension": ".py",
   "mimetype": "text/x-python",
   "name": "python",
   "nbconvert_exporter": "python",
   "pygments_lexer": "ipython3",
   "version": "3.12.9"
  }
 },
 "nbformat": 4,
 "nbformat_minor": 5
}
