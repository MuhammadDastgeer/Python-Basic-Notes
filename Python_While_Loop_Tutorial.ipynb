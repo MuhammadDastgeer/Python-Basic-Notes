{
 "cells": [
  {
   "cell_type": "markdown",
   "id": "3318a7d1",
   "metadata": {},
   "source": [
    "\n",
    "# Python While Loops - A Complete Guide\n",
    "\n",
    "This notebook will cover everything about Python `while` loops — from basic concepts to advanced operations.\n"
   ]
  },
  {
   "cell_type": "markdown",
   "id": "8d2eda47",
   "metadata": {},
   "source": [
    "## 1. Introduction to While Loops"
   ]
  },
  {
   "cell_type": "markdown",
   "id": "6d305468",
   "metadata": {},
   "source": [
    "\n",
    "### What is a While Loop?\n",
    "- A `while` loop **executes a block of code repeatedly** as long as a given condition is `True`.  \n",
    "- If the condition becomes `False`, the loop stops executing.  \n",
    "- Used when the number of iterations is **unknown** beforehand.  \n",
    "\n",
    "### Why use While Loops?\n",
    "- When you need to **repeat an operation** until a condition changes.  \n",
    "- When you don't know the exact number of iterations.  \n",
    "\n",
    "### Syntax of a While Loop:\n",
    "```python\n",
    "while condition:\n",
    "    # Code to execute\n",
    "```\n"
   ]
  },
  {
   "cell_type": "code",
   "execution_count": null,
   "id": "327e2891",
   "metadata": {},
   "outputs": [
    {
     "name": "stdout",
     "output_type": "stream",
     "text": [
      "0\n",
      "1\n",
      "2\n",
      "3\n",
      "4\n"
     ]
    }
   ],
   "source": [
    "# Example: Basic while loop\n",
    "count = 0\n",
    "while count < 5:\n",
    "    print(count)\n",
    "    count += 1"
   ]
  },
  {
   "cell_type": "markdown",
   "id": "0ef45207",
   "metadata": {},
   "source": [
    "## 2. Using `else` with While Loops"
   ]
  },
  {
   "cell_type": "code",
   "execution_count": 1,
   "id": "857e8137",
   "metadata": {},
   "outputs": [
    {
     "name": "stdout",
     "output_type": "stream",
     "text": [
      "0\n",
      "1\n",
      "2\n",
      "Loop completed successfully!\n"
     ]
    }
   ],
   "source": [
    "# else block executes when loop finishes normally (no break)\n",
    "count = 0\n",
    "while count < 3:\n",
    "    print(count)\n",
    "    count += 1\n",
    "else:\n",
    "    print(\"Loop completed successfully!\")"
   ]
  },
  {
   "cell_type": "markdown",
   "id": "cd3d04cb",
   "metadata": {},
   "source": [
    "## 3. Break and Continue"
   ]
  },
  {
   "cell_type": "code",
   "execution_count": 1,
   "id": "5d903477",
   "metadata": {},
   "outputs": [
    {
     "name": "stdout",
     "output_type": "stream",
     "text": [
      "0\n",
      "1\n",
      "2\n",
      "3\n",
      "4\n",
      "1\n",
      "2\n",
      "3\n",
      "4\n",
      "6\n",
      "7\n",
      "8\n",
      "9\n",
      "10\n"
     ]
    }
   ],
   "source": [
    "# break - Terminates the loop early\n",
    "count = 0\n",
    "while count < 10:\n",
    "    if count == 5:\n",
    "        break\n",
    "    print(count)\n",
    "    count += 1\n",
    "\n",
    "# continue - Skips the current iteration and continues with the next one\n",
    "count = 0\n",
    "while count < 10:\n",
    "    count += 1\n",
    "    if count == 5:\n",
    "        continue\n",
    "    print(count)"
   ]
  },
  {
   "cell_type": "markdown",
   "id": "c7a5cc7f",
   "metadata": {},
   "source": [
    "## 4. Infinite While Loops"
   ]
  },
  {
   "cell_type": "code",
   "execution_count": null,
   "id": "07bedc9c",
   "metadata": {},
   "outputs": [],
   "source": [
    "# Example of an infinite loop (use with caution)\n",
    "# Uncomment to test (It will run indefinitely)\n",
    "# while True:\n",
    "#     print(\"This will run forever!\")"
   ]
  },
  {
   "cell_type": "markdown",
   "id": "33397be5",
   "metadata": {},
   "source": [
    "## 5. Using While Loop with User Input"
   ]
  },
  {
   "cell_type": "code",
   "execution_count": null,
   "id": "a9db42bc",
   "metadata": {},
   "outputs": [],
   "source": [
    "# Example using user input\n",
    "# Uncomment and test manually\n",
    "# user_input = ''\n",
    "# while user_input != 'quit':\n",
    "#     user_input = input(\"Enter something (type 'quit' to exit): \")\n",
    "#     print(f\"You entered: {user_input}\")"
   ]
  },
  {
   "cell_type": "markdown",
   "id": "846f467a",
   "metadata": {},
   "source": [
    "## 7. Using While Loop with Lists"
   ]
  },
  {
   "cell_type": "code",
   "execution_count": 2,
   "id": "8f53f288",
   "metadata": {},
   "outputs": [
    {
     "name": "stdout",
     "output_type": "stream",
     "text": [
      "apple\n",
      "banana\n",
      "cherry\n"
     ]
    }
   ],
   "source": [
    "# Processing a list with a while loop\n",
    "fruits = ['apple', 'banana', 'cherry']\n",
    "index = 0\n",
    "while index < len(fruits):\n",
    "    print(fruits[index])\n",
    "    index += 1"
   ]
  },
  {
   "cell_type": "markdown",
   "id": "77db0421",
   "metadata": {},
   "source": [
    "## 8. Using While Loop with Dictionaries"
   ]
  },
  {
   "cell_type": "code",
   "execution_count": 1,
   "id": "33f0c4f3",
   "metadata": {},
   "outputs": [
    {
     "name": "stdout",
     "output_type": "stream",
     "text": [
      "name: John\n",
      "age: 30\n",
      "city: New York\n"
     ]
    }
   ],
   "source": [
    "# Example of looping through a dictionary using while loop\n",
    "person = {'name': 'John', 'age': 30, 'city': 'New York'}\n",
    "keys = list(person.keys())\n",
    "index = 0\n",
    "\n",
    "while index < len(keys):\n",
    "    key = keys[index]\n",
    "    print(f\"{key}: {person[key]}\")\n",
    "    index += 1"
   ]
  },
  {
   "cell_type": "markdown",
   "id": "2849eca0",
   "metadata": {},
   "source": [
    "## 9. Handling Errors in While Loops"
   ]
  },
  {
   "cell_type": "code",
   "execution_count": null,
   "id": "2d14e5ce",
   "metadata": {},
   "outputs": [],
   "source": [
    "# Handling division by zero error\n",
    "count = 5\n",
    "while count > -5:\n",
    "    try:\n",
    "        result = 10 / count\n",
    "        print(f\"10 / {count} = {result}\")\n",
    "    except ZeroDivisionError:\n",
    "        print(\"Cannot divide by zero\")\n",
    "    count -= 1"
   ]
  },
  {
   "cell_type": "markdown",
   "id": "b2d93c75",
   "metadata": {},
   "source": [
    "## 10. Common Pitfalls and How to Avoid Them"
   ]
  },
  {
   "cell_type": "markdown",
   "id": "14dc3281",
   "metadata": {},
   "source": [
    "\n",
    "- Forgetting to update the loop variable (causes an **infinite loop**).  \n",
    "- Setting the wrong loop condition (can cause the loop to run too many or too few times).  \n",
    "- Using `else` incorrectly — `else` only works if the loop exits naturally without `break`.  \n"
   ]
  },
  {
   "cell_type": "markdown",
   "id": "ba649acb",
   "metadata": {},
   "source": [
    "## 11. Best Practices"
   ]
  },
  {
   "cell_type": "markdown",
   "id": "e96a9cb6",
   "metadata": {},
   "source": [
    "\n",
    "- Ensure that the loop **terminates** properly by updating the loop variable.  \n",
    "- Use `break` and `continue` sparingly to avoid complex flow control.  \n",
    "- When you know the number of iterations, consider using a `for` loop instead.  \n",
    "- Keep the loop body small and simple for better readability.  \n"
   ]
  },
  {
   "cell_type": "markdown",
   "id": "5198dccf",
   "metadata": {},
   "source": [
    "## 12. Exercises and Challenges"
   ]
  },
  {
   "cell_type": "markdown",
   "id": "43d07c17",
   "metadata": {},
   "source": [
    "\n",
    "✅ **Beginner:** Create a while loop that counts from 1 to 10.  \n",
    "✅ **Intermediate:** Create a while loop that sums even numbers from 1 to 100.  \n",
    "✅ **Advanced:** Create a while loop that simulates a simple ATM withdrawal process.  \n"
   ]
  }
 ],
 "metadata": {
  "kernelspec": {
   "display_name": "base",
   "language": "python",
   "name": "python3"
  },
  "language_info": {
   "codemirror_mode": {
    "name": "ipython",
    "version": 3
   },
   "file_extension": ".py",
   "mimetype": "text/x-python",
   "name": "python",
   "nbconvert_exporter": "python",
   "pygments_lexer": "ipython3",
   "version": "3.12.9"
  }
 },
 "nbformat": 4,
 "nbformat_minor": 5
}
