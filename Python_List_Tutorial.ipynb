{
 "cells": [
  {
   "cell_type": "markdown",
   "id": "3f6f6b23",
   "metadata": {},
   "source": [
    "\n",
    "# Python Lists - A Complete Guide\n",
    "\n",
    "This notebook will cover everything about Python lists — from basic concepts to advanced operations.\n"
   ]
  },
  {
   "cell_type": "markdown",
   "id": "e69a8617",
   "metadata": {},
   "source": [
    "## 1. Introduction to Lists"
   ]
  },
  {
   "cell_type": "markdown",
   "id": "29608db5",
   "metadata": {},
   "source": [
    "\n",
    "### What is a List?\n",
    "- A list is a **mutable**, ordered collection of elements.\n",
    "- Lists can hold elements of **different data types** (integers, strings, floats, etc.).\n",
    "\n",
    "### Why use Lists?\n",
    "- Lists are versatile and commonly used in Python for storing and manipulating ordered data.\n",
    "\n",
    "### Creating a List\n",
    "You can create a list using:\n",
    "1. Square brackets `[]`\n",
    "2. `list()` constructor\n"
   ]
  },
  {
   "cell_type": "code",
   "execution_count": null,
   "id": "f94677fe",
   "metadata": {},
   "outputs": [],
   "source": [
    "# Creating lists using square brackets\n",
    "my_list = [1, 2, 3, 4, 5]\n",
    "print(my_list)\n",
    "\n",
    "# Creating a list using the list() constructor\n",
    "another_list = list((6, 7, 8, 9, 10))\n",
    "print(another_list)\n",
    "\n",
    "# Creating an empty list\n",
    "empty_list = []\n",
    "print(empty_list)"
   ]
  },
  {
   "cell_type": "markdown",
   "id": "b9dc6e08",
   "metadata": {},
   "source": [
    "## 2. Basic Operations on Lists"
   ]
  },
  {
   "cell_type": "code",
   "execution_count": null,
   "id": "d2804548",
   "metadata": {},
   "outputs": [],
   "source": [
    "# Accessing elements using indexing\n",
    "my_list = [10, 20, 30, 40, 50]\n",
    "\n",
    "# Access first element\n",
    "print(my_list[0])\n",
    "\n",
    "# Access last element using negative indexing\n",
    "print(my_list[-1])\n",
    "\n",
    "# Slicing a list\n",
    "print(my_list[1:4])\n",
    "\n",
    "# Length of a list\n",
    "print(len(my_list))\n",
    "\n",
    "# Updating elements\n",
    "my_list[0] = 100\n",
    "print(my_list)"
   ]
  },
  {
   "cell_type": "markdown",
   "id": "7b64d4a5",
   "metadata": {},
   "source": [
    "## 3. Adding Elements to a List"
   ]
  },
  {
   "cell_type": "code",
   "execution_count": null,
   "id": "f29cf3c0",
   "metadata": {},
   "outputs": [],
   "source": [
    "# Append - Adds an element at the end\n",
    "my_list = [1, 2, 3]\n",
    "my_list.append(4)\n",
    "print(my_list)\n",
    "\n",
    "# Insert - Adds element at specific index\n",
    "my_list.insert(1, 100)\n",
    "print(my_list)\n",
    "\n",
    "# Extend - Adds multiple elements\n",
    "my_list.extend([5, 6, 7])\n",
    "print(my_list)"
   ]
  },
  {
   "cell_type": "markdown",
   "id": "a38d753d",
   "metadata": {},
   "source": [
    "## 4. Removing Elements from a List"
   ]
  },
  {
   "cell_type": "code",
   "execution_count": null,
   "id": "35ef3a9c",
   "metadata": {},
   "outputs": [],
   "source": [
    "# Remove specific element\n",
    "my_list.remove(100)\n",
    "print(my_list)\n",
    "\n",
    "# Pop - Removes element at index and returns it\n",
    "removed = my_list.pop(2)\n",
    "print(\"Removed:\", removed)\n",
    "print(my_list)\n",
    "\n",
    "# Clear - Removes all elements\n",
    "my_list.clear()\n",
    "print(my_list)"
   ]
  },
  {
   "cell_type": "markdown",
   "id": "8ad704ac",
   "metadata": {},
   "source": [
    "## 5. List Searching and Counting"
   ]
  },
  {
   "cell_type": "code",
   "execution_count": null,
   "id": "663a4045",
   "metadata": {},
   "outputs": [],
   "source": [
    "my_list = [1, 2, 3, 4, 2, 2, 5]\n",
    "\n",
    "# index() - First occurrence of a value\n",
    "print(my_list.index(2))\n",
    "\n",
    "# count() - Number of occurrences of a value\n",
    "print(my_list.count(2))"
   ]
  },
  {
   "cell_type": "markdown",
   "id": "088e9524",
   "metadata": {},
   "source": [
    "## 6. Sorting and Reversing"
   ]
  },
  {
   "cell_type": "code",
   "execution_count": null,
   "id": "13651956",
   "metadata": {},
   "outputs": [],
   "source": [
    "# Sorting\n",
    "my_list = [4, 2, 9, 1, 5]\n",
    "my_list.sort()\n",
    "print(my_list)\n",
    "\n",
    "# Reverse sorting\n",
    "my_list.sort(reverse=True)\n",
    "print(my_list)\n",
    "\n",
    "# Reverse order of list\n",
    "my_list.reverse()\n",
    "print(my_list)"
   ]
  },
  {
   "cell_type": "markdown",
   "id": "b22fb6c5",
   "metadata": {},
   "source": [
    "## 7. Copying Lists"
   ]
  },
  {
   "cell_type": "code",
   "execution_count": null,
   "id": "21f5275a",
   "metadata": {},
   "outputs": [],
   "source": [
    "# Shallow copy\n",
    "original = [1, 2, 3]\n",
    "copied = original.copy()\n",
    "copied[0] = 100\n",
    "print(\"Original:\", original)\n",
    "print(\"Copied:\", copied)\n",
    "\n",
    "# Deep copy\n",
    "import copy\n",
    "deep_copied = copy.deepcopy(original)\n",
    "deep_copied[0] = 200\n",
    "print(\"Original:\", original)\n",
    "print(\"Deep copied:\", deep_copied)"
   ]
  },
  {
   "cell_type": "markdown",
   "id": "932efb19",
   "metadata": {},
   "source": [
    "## 8. List Comprehension"
   ]
  },
  {
   "cell_type": "code",
   "execution_count": null,
   "id": "b56b5d99",
   "metadata": {},
   "outputs": [],
   "source": [
    "# Simple list comprehension\n",
    "squares = [x**2 for x in range(10)]\n",
    "print(squares)\n",
    "\n",
    "# Conditional list comprehension\n",
    "evens = [x for x in range(10) if x % 2 == 0]\n",
    "print(evens)"
   ]
  },
  {
   "cell_type": "markdown",
   "id": "abdb04a4",
   "metadata": {},
   "source": [
    "## 9. Looping Through Lists"
   ]
  },
  {
   "cell_type": "code",
   "execution_count": null,
   "id": "2982aeab",
   "metadata": {},
   "outputs": [],
   "source": [
    "# Using a for loop\n",
    "my_list = [1, 2, 3, 4, 5]\n",
    "for item in my_list:\n",
    "    print(item)\n",
    "\n",
    "# Using enumerate()\n",
    "for index, item in enumerate(my_list):\n",
    "    print(f\"Index {index}: {item}\")"
   ]
  },
  {
   "cell_type": "markdown",
   "id": "e03ac494",
   "metadata": {},
   "source": [
    "## 10. Joining and Splitting Lists"
   ]
  },
  {
   "cell_type": "code",
   "execution_count": null,
   "id": "04378c69",
   "metadata": {},
   "outputs": [],
   "source": [
    "# Joining list into a string\n",
    "words = [\"Python\", \"is\", \"fun\"]\n",
    "sentence = \" \".join(words)\n",
    "print(sentence)\n",
    "\n",
    "# Splitting a string into a list\n",
    "new_list = sentence.split()\n",
    "print(new_list)"
   ]
  },
  {
   "cell_type": "markdown",
   "id": "7d49af82",
   "metadata": {},
   "source": [
    "## 11. Nested Lists"
   ]
  },
  {
   "cell_type": "code",
   "execution_count": null,
   "id": "391ca370",
   "metadata": {},
   "outputs": [],
   "source": [
    "# Creating nested list\n",
    "nested = [[1, 2], [3, 4], [5, 6]]\n",
    "print(nested)\n",
    "\n",
    "# Accessing elements\n",
    "print(nested[0][1])"
   ]
  },
  {
   "cell_type": "markdown",
   "id": "ac56339a",
   "metadata": {},
   "source": [
    "## 12. Mathematical Operations on Lists"
   ]
  },
  {
   "cell_type": "code",
   "execution_count": null,
   "id": "531fa7dc",
   "metadata": {},
   "outputs": [],
   "source": [
    "numbers = [1, 2, 3, 4, 5]\n",
    "print(sum(numbers))\n",
    "print(min(numbers))\n",
    "print(max(numbers))\n",
    "\n",
    "# Zip function\n",
    "a = [1, 2, 3]\n",
    "b = [\"a\", \"b\", \"c\"]\n",
    "combined = list(zip(a, b))\n",
    "print(combined)"
   ]
  },
  {
   "cell_type": "markdown",
   "id": "6dfe4aa0",
   "metadata": {},
   "source": [
    "## 13. List vs Other Data Types"
   ]
  },
  {
   "cell_type": "markdown",
   "id": "35ec0d30",
   "metadata": {},
   "source": [
    "\n",
    "- **List vs Tuple** – Tuples are immutable, lists are mutable.  \n",
    "- **List vs Set** – Sets are unordered and store unique values.  \n",
    "- **List vs Dictionary** – Dictionaries store key-value pairs.  \n"
   ]
  },
  {
   "cell_type": "markdown",
   "id": "6057ec53",
   "metadata": {},
   "source": [
    "## 14. Common Pitfalls and How to Avoid Them"
   ]
  },
  {
   "cell_type": "markdown",
   "id": "ae8d6090",
   "metadata": {},
   "source": [
    "\n",
    "- Lists are mutable — modifying a list inside a function may change the original list.  \n",
    "- Shallow copy issues — use `copy.deepcopy()` for complex lists.  \n"
   ]
  },
  {
   "cell_type": "markdown",
   "id": "b29c9283",
   "metadata": {},
   "source": [
    "## 15. Best Practices"
   ]
  },
  {
   "cell_type": "markdown",
   "id": "4d31f7bf",
   "metadata": {},
   "source": [
    "\n",
    "- Prefer list comprehensions when possible.  \n",
    "- Avoid modifying a list while looping through it.  \n",
    "- Use `enumerate()` instead of manually counting indexes.  \n"
   ]
  },
  {
   "cell_type": "markdown",
   "id": "9425e6db",
   "metadata": {},
   "source": [
    "## 16. Exercises and Challenges"
   ]
  },
  {
   "cell_type": "markdown",
   "id": "7a432359",
   "metadata": {},
   "source": [
    "\n",
    "✅ **Beginner:** Create a list and add/remove elements.  \n",
    "✅ **Intermediate:** Create nested lists and perform operations.  \n",
    "✅ **Advanced:** Write a program using list comprehension and zip().  \n"
   ]
  }
 ],
 "metadata": {
  "kernelspec": {
   "display_name": "base",
   "language": "python",
   "name": "python3"
  },
  "language_info": {
   "name": "python",
   "version": "3.12.9"
  }
 },
 "nbformat": 4,
 "nbformat_minor": 5
}
