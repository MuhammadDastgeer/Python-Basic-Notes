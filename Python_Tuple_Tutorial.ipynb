{
 "cells": [
  {
   "cell_type": "markdown",
   "id": "67ed6243",
   "metadata": {},
   "source": [
    "\n",
    "# Python Tuples - A Complete Guide\n",
    "\n",
    "This notebook will cover everything about Python tuples — from basic concepts to advanced operations.\n"
   ]
  },
  {
   "cell_type": "markdown",
   "id": "a91a0faf",
   "metadata": {},
   "source": [
    "## 1. Introduction to Tuples"
   ]
  },
  {
   "cell_type": "markdown",
   "id": "061bc2ec",
   "metadata": {},
   "source": [
    "\n",
    "### What is a Tuple?\n",
    "- A tuple is an **immutable**, ordered collection of elements.  \n",
    "- Tuples can hold elements of **different data types** (integers, strings, floats, etc.).  \n",
    "- Once a tuple is created, **it cannot be modified** (unlike lists).  \n",
    "\n",
    "### Why use Tuples?\n",
    "- Tuples are faster than lists (due to immutability).  \n",
    "- They ensure data integrity (since they can't be modified).  \n",
    "\n",
    "### Creating a Tuple\n",
    "You can create a tuple using:\n",
    "1. Parentheses `()`  \n",
    "2. `tuple()` constructor  \n"
   ]
  },
  {
   "cell_type": "code",
   "execution_count": null,
   "id": "7bab0162",
   "metadata": {},
   "outputs": [],
   "source": [
    "# Creating tuples using parentheses\n",
    "my_tuple = (1, 2, 3, 4, 5)\n",
    "print(my_tuple)\n",
    "\n",
    "# Creating a tuple using the tuple() constructor\n",
    "another_tuple = tuple((6, 7, 8, 9, 10))\n",
    "print(another_tuple)\n",
    "\n",
    "# Creating an empty tuple\n",
    "empty_tuple = ()\n",
    "print(empty_tuple)\n",
    "\n",
    "# Creating a single-element tuple (needs a trailing comma)\n",
    "single_element = (5,)\n",
    "print(single_element)"
   ]
  },
  {
   "cell_type": "markdown",
   "id": "bf71ff1a",
   "metadata": {},
   "source": [
    "## 2. Accessing Elements"
   ]
  },
  {
   "cell_type": "code",
   "execution_count": null,
   "id": "a98ca7fa",
   "metadata": {},
   "outputs": [],
   "source": [
    "# Indexing and Slicing\n",
    "my_tuple = (10, 20, 30, 40, 50)\n",
    "\n",
    "# Access first element\n",
    "print(my_tuple[0])\n",
    "\n",
    "# Access last element using negative indexing\n",
    "print(my_tuple[-1])\n",
    "\n",
    "# Slicing a tuple\n",
    "print(my_tuple[1:4])\n",
    "\n",
    "# Length of a tuple\n",
    "print(len(my_tuple))"
   ]
  },
  {
   "cell_type": "markdown",
   "id": "9d73239e",
   "metadata": {},
   "source": [
    "## 3. Tuple Packing and Unpacking"
   ]
  },
  {
   "cell_type": "code",
   "execution_count": null,
   "id": "ea2b7456",
   "metadata": {},
   "outputs": [],
   "source": [
    "# Tuple Packing\n",
    "my_tuple = 1, 2, 3\n",
    "print(my_tuple)\n",
    "\n",
    "# Tuple Unpacking\n",
    "a, b, c = my_tuple\n",
    "print(a, b, c)"
   ]
  },
  {
   "cell_type": "markdown",
   "id": "a8e5c2b4",
   "metadata": {},
   "source": [
    "## 4. Tuple Methods"
   ]
  },
  {
   "cell_type": "code",
   "execution_count": null,
   "id": "85d01c82",
   "metadata": {},
   "outputs": [],
   "source": [
    "# count() - Count occurrences of a value\n",
    "my_tuple = (1, 2, 3, 4, 2, 2, 5)\n",
    "print(my_tuple.count(2))\n",
    "\n",
    "# index() - First occurrence of a value\n",
    "print(my_tuple.index(2))"
   ]
  },
  {
   "cell_type": "markdown",
   "id": "013bd427",
   "metadata": {},
   "source": [
    "## 5. Looping Through Tuples"
   ]
  },
  {
   "cell_type": "code",
   "execution_count": null,
   "id": "cf31ce79",
   "metadata": {},
   "outputs": [],
   "source": [
    "# Using a for loop\n",
    "my_tuple = (1, 2, 3, 4, 5)\n",
    "for item in my_tuple:\n",
    "    print(item)\n",
    "\n",
    "# Using enumerate()\n",
    "for index, item in enumerate(my_tuple):\n",
    "    print(f\"Index {index}: {item}\")"
   ]
  },
  {
   "cell_type": "markdown",
   "id": "7f61de40",
   "metadata": {},
   "source": [
    "## 6. Joining and Repeating Tuples"
   ]
  },
  {
   "cell_type": "code",
   "execution_count": null,
   "id": "4fc9f0d4",
   "metadata": {},
   "outputs": [],
   "source": [
    "# Joining tuples\n",
    "tuple1 = (1, 2, 3)\n",
    "tuple2 = (4, 5, 6)\n",
    "combined = tuple1 + tuple2\n",
    "print(combined)\n",
    "\n",
    "# Repeating tuples\n",
    "repeated = tuple1 * 3\n",
    "print(repeated)"
   ]
  },
  {
   "cell_type": "markdown",
   "id": "63045646",
   "metadata": {},
   "source": [
    "## 7. Checking Membership"
   ]
  },
  {
   "cell_type": "code",
   "execution_count": null,
   "id": "d02013de",
   "metadata": {},
   "outputs": [],
   "source": [
    "my_tuple = (1, 2, 3, 4, 5)\n",
    "\n",
    "# Check if element exists in tuple\n",
    "print(3 in my_tuple)\n",
    "print(6 in my_tuple)"
   ]
  },
  {
   "cell_type": "markdown",
   "id": "90713b7b",
   "metadata": {},
   "source": [
    "## 8. Nested Tuples"
   ]
  },
  {
   "cell_type": "code",
   "execution_count": null,
   "id": "1699e7f1",
   "metadata": {},
   "outputs": [],
   "source": [
    "# Creating nested tuples\n",
    "nested_tuple = ((1, 2), (3, 4), (5, 6))\n",
    "print(nested_tuple)\n",
    "\n",
    "# Accessing nested elements\n",
    "print(nested_tuple[0][1])"
   ]
  },
  {
   "cell_type": "markdown",
   "id": "7172b831",
   "metadata": {},
   "source": [
    "## 9. Converting Between Tuples and Other Data Types"
   ]
  },
  {
   "cell_type": "code",
   "execution_count": null,
   "id": "3884c268",
   "metadata": {},
   "outputs": [],
   "source": [
    "# Converting tuple to list\n",
    "my_tuple = (1, 2, 3)\n",
    "converted_list = list(my_tuple)\n",
    "print(converted_list)\n",
    "\n",
    "# Converting list to tuple\n",
    "my_list = [4, 5, 6]\n",
    "converted_tuple = tuple(my_list)\n",
    "print(converted_tuple)"
   ]
  },
  {
   "cell_type": "markdown",
   "id": "8c40da57",
   "metadata": {},
   "source": [
    "## 10. Tuple vs List"
   ]
  },
  {
   "cell_type": "markdown",
   "id": "ba729781",
   "metadata": {},
   "source": [
    "\n",
    "| Feature | Tuple | List |\n",
    "|---------|-------|------|\n",
    "| Mutability | Immutable | Mutable |\n",
    "| Performance | Faster | Slower |\n",
    "| Methods | Limited | More extensive |\n",
    "| Memory Usage | Less | More |\n"
   ]
  },
  {
   "cell_type": "markdown",
   "id": "1d5ecd9a",
   "metadata": {},
   "source": [
    "## 11. Common Pitfalls and How to Avoid Them"
   ]
  },
  {
   "cell_type": "markdown",
   "id": "01828b80",
   "metadata": {},
   "source": [
    "\n",
    "- Trying to modify a tuple — Tuples are immutable.  \n",
    "- Forgetting the trailing comma in single-element tuples.  \n",
    "- Attempting to remove elements from a tuple.  \n"
   ]
  },
  {
   "cell_type": "markdown",
   "id": "ef4287c7",
   "metadata": {},
   "source": [
    "## 12. Best Practices"
   ]
  },
  {
   "cell_type": "markdown",
   "id": "7f8a4678",
   "metadata": {},
   "source": [
    "\n",
    "- Use tuples for **fixed data** that should not change.  \n",
    "- Prefer tuples when passing data that should remain constant.  \n",
    "- Use tuples as dictionary keys (since they are hashable).  \n"
   ]
  },
  {
   "cell_type": "markdown",
   "id": "5ce538dd",
   "metadata": {},
   "source": [
    "## 13. Exercises and Challenges"
   ]
  },
  {
   "cell_type": "markdown",
   "id": "f177c2df",
   "metadata": {},
   "source": [
    "\n",
    "✅ **Beginner:** Create a tuple and access its elements.  \n",
    "✅ **Intermediate:** Create a nested tuple and unpack its values.  \n",
    "✅ **Advanced:** Write a function that accepts a tuple and returns a new tuple with unique elements.  \n"
   ]
  }
 ],
 "metadata": {},
 "nbformat": 4,
 "nbformat_minor": 5
}