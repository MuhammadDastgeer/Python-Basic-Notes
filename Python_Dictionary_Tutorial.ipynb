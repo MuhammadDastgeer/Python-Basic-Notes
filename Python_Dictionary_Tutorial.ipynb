{
 "cells": [
  {
   "cell_type": "markdown",
   "id": "a5cb0acf",
   "metadata": {},
   "source": [
    "\n",
    "# Python Dictionaries - A Complete Guide\n",
    "\n",
    "This notebook will cover everything about Python dictionaries — from basic concepts to advanced operations.\n"
   ]
  },
  {
   "cell_type": "markdown",
   "id": "9a579db5",
   "metadata": {},
   "source": [
    "## 1. Introduction to Dictionaries"
   ]
  },
  {
   "cell_type": "markdown",
   "id": "02580866",
   "metadata": {},
   "source": [
    "\n",
    "### What is a Dictionary?\n",
    "- A dictionary is an **unordered** collection of key-value pairs.  \n",
    "- Each key is **unique** and is used to store and retrieve values.  \n",
    "- Keys must be **immutable** (strings, numbers, or tuples).  \n",
    "- Dictionaries are defined using **curly braces `{}`** or the `dict()` constructor.  \n",
    "\n",
    "### Why use Dictionaries?\n",
    "- Fast lookup and retrieval using keys.  \n",
    "- Ideal for mapping relationships between data.  \n",
    "- Allows storing complex data structures.  \n",
    "\n",
    "### Creating a Dictionary\n",
    "You can create a dictionary using:\n",
    "1. Curly braces `{}`  \n",
    "2. `dict()` constructor  \n"
   ]
  },
  {
   "cell_type": "code",
   "execution_count": null,
   "id": "3e454c86",
   "metadata": {},
   "outputs": [],
   "source": [
    "# Creating dictionaries using curly braces\n",
    "my_dict = {'name': 'John', 'age': 30, 'city': 'New York'}\n",
    "print(my_dict)\n",
    "\n",
    "# Creating a dictionary using the dict() constructor\n",
    "another_dict = dict(name='Alice', age=25, city='London')\n",
    "print(another_dict)\n",
    "\n",
    "# Creating an empty dictionary\n",
    "empty_dict = {}\n",
    "print(empty_dict)\n",
    "\n",
    "# Keys must be unique (duplicate keys will overwrite values)\n",
    "duplicate_keys = {'a': 1, 'b': 2, 'a': 3}\n",
    "print(duplicate_keys)"
   ]
  },
  {
   "cell_type": "markdown",
   "id": "5e72f56f",
   "metadata": {},
   "source": [
    "## 2. Accessing Elements"
   ]
  },
  {
   "cell_type": "code",
   "execution_count": null,
   "id": "85e46ce4",
   "metadata": {},
   "outputs": [],
   "source": [
    "# Accessing values using keys\n",
    "person = {'name': 'John', 'age': 30, 'city': 'New York'}\n",
    "print(person['name'])\n",
    "print(person.get('age'))\n",
    "\n",
    "# Accessing a non-existing key using get()\n",
    "print(person.get('salary', 'Not available'))\n",
    "\n",
    "# Accessing keys, values, and items\n",
    "print(person.keys())   # Returns all keys\n",
    "print(person.values()) # Returns all values\n",
    "print(person.items())  # Returns all key-value pairs as tuples"
   ]
  },
  {
   "cell_type": "markdown",
   "id": "213ea1d5",
   "metadata": {},
   "source": [
    "## 3. Adding and Updating Elements"
   ]
  },
  {
   "cell_type": "code",
   "execution_count": null,
   "id": "8eb05d1a",
   "metadata": {},
   "outputs": [],
   "source": [
    "# Adding a new key-value pair\n",
    "person = {'name': 'John', 'age': 30}\n",
    "person['city'] = 'New York'\n",
    "print(person)\n",
    "\n",
    "# Updating an existing key-value pair\n",
    "person['age'] = 35\n",
    "print(person)\n",
    "\n",
    "# update() - Updating multiple values at once\n",
    "person.update({'job': 'Engineer', 'age': 40})\n",
    "print(person)"
   ]
  },
  {
   "cell_type": "markdown",
   "id": "d836f2dd",
   "metadata": {},
   "source": [
    "## 4. Removing Elements"
   ]
  },
  {
   "cell_type": "code",
   "execution_count": null,
   "id": "a022d784",
   "metadata": {},
   "outputs": [],
   "source": [
    "# pop() - Removes a key and returns its value\n",
    "person = {'name': 'John', 'age': 30, 'city': 'New York'}\n",
    "removed_value = person.pop('age')\n",
    "print(removed_value)\n",
    "print(person)\n",
    "\n",
    "# popitem() - Removes and returns the last inserted key-value pair\n",
    "last_item = person.popitem()\n",
    "print(last_item)\n",
    "print(person)\n",
    "\n",
    "# del - Deletes a key\n",
    "del person['name']\n",
    "print(person)\n",
    "\n",
    "# clear() - Removes all elements\n",
    "person.clear()\n",
    "print(person)"
   ]
  },
  {
   "cell_type": "markdown",
   "id": "a8625fa7",
   "metadata": {},
   "source": [
    "## 5. Looping Through Dictionaries"
   ]
  },
  {
   "cell_type": "code",
   "execution_count": null,
   "id": "79344fcd",
   "metadata": {},
   "outputs": [],
   "source": [
    "person = {'name': 'John', 'age': 30, 'city': 'New York'}\n",
    "\n",
    "# Looping through keys\n",
    "for key in person:\n",
    "    print(key)\n",
    "\n",
    "# Looping through values\n",
    "for value in person.values():\n",
    "    print(value)\n",
    "\n",
    "# Looping through key-value pairs\n",
    "for key, value in person.items():\n",
    "    print(f\"{key}: {value}\")"
   ]
  },
  {
   "cell_type": "markdown",
   "id": "ddc0743e",
   "metadata": {},
   "source": [
    "## 6. Nested Dictionaries"
   ]
  },
  {
   "cell_type": "code",
   "execution_count": null,
   "id": "3cdf7010",
   "metadata": {},
   "outputs": [],
   "source": [
    "# Creating a nested dictionary\n",
    "company = {\n",
    "    'employee1': {'name': 'John', 'age': 30},\n",
    "    'employee2': {'name': 'Alice', 'age': 25}\n",
    "}\n",
    "print(company)\n",
    "\n",
    "# Accessing elements in a nested dictionary\n",
    "print(company['employee1']['name'])\n",
    "\n",
    "# Updating nested dictionary\n",
    "company['employee1']['age'] = 35\n",
    "print(company)"
   ]
  },
  {
   "cell_type": "markdown",
   "id": "4d7b9e99",
   "metadata": {},
   "source": [
    "## 7. Dictionary Comprehension"
   ]
  },
  {
   "cell_type": "code",
   "execution_count": null,
   "id": "5b1238b0",
   "metadata": {},
   "outputs": [],
   "source": [
    "# Creating a dictionary using comprehension\n",
    "squares = {x: x**2 for x in range(1, 6)}\n",
    "print(squares)"
   ]
  },
  {
   "cell_type": "markdown",
   "id": "8bfd9e63",
   "metadata": {},
   "source": [
    "## 8. Copying Dictionaries"
   ]
  },
  {
   "cell_type": "code",
   "execution_count": null,
   "id": "ca62c73b",
   "metadata": {},
   "outputs": [],
   "source": [
    "# copy() - Creates a shallow copy\n",
    "person = {'name': 'John', 'age': 30}\n",
    "copied = person.copy()\n",
    "copied['age'] = 40\n",
    "print(person)\n",
    "print(copied)"
   ]
  },
  {
   "cell_type": "markdown",
   "id": "8501ee94",
   "metadata": {},
   "source": [
    "## 9. Merging Dictionaries"
   ]
  },
  {
   "cell_type": "code",
   "execution_count": null,
   "id": "b46f3133",
   "metadata": {},
   "outputs": [],
   "source": [
    "# Using update()\n",
    "dict1 = {'a': 1, 'b': 2}\n",
    "dict2 = {'b': 3, 'c': 4}\n",
    "dict1.update(dict2)\n",
    "print(dict1)\n",
    "\n",
    "# Using the | operator (Python 3.9+)\n",
    "dict3 = {'x': 1, 'y': 2}\n",
    "dict4 = {'y': 3, 'z': 4}\n",
    "merged = dict3 | dict4\n",
    "print(merged)"
   ]
  },
  {
   "cell_type": "markdown",
   "id": "028d6138",
   "metadata": {},
   "source": [
    "## 10. Common Pitfalls and How to Avoid Them"
   ]
  },
  {
   "cell_type": "markdown",
   "id": "bbaaeb55",
   "metadata": {},
   "source": [
    "\n",
    "- Using mutable types (like lists) as dictionary keys (causes TypeError).  \n",
    "- Forgetting that dictionary keys are unique (overwrites duplicate keys).  \n",
    "- Attempting to access a non-existent key without using `get()` (causes KeyError).  \n"
   ]
  },
  {
   "cell_type": "markdown",
   "id": "a7d04e68",
   "metadata": {},
   "source": [
    "## 11. Best Practices"
   ]
  },
  {
   "cell_type": "markdown",
   "id": "ea83bf9b",
   "metadata": {},
   "source": [
    "\n",
    "- Use dictionaries when you need to map keys to values.  \n",
    "- Use the `get()` method to avoid KeyError.  \n",
    "- Use dictionary comprehensions for clean and efficient code.  \n"
   ]
  },
  {
   "cell_type": "markdown",
   "id": "26aba85b",
   "metadata": {},
   "source": [
    "## 12. Exercises and Challenges"
   ]
  },
  {
   "cell_type": "markdown",
   "id": "b2927045",
   "metadata": {},
   "source": [
    "\n",
    "✅ **Beginner:** Create a dictionary and retrieve values using keys.  \n",
    "✅ **Intermediate:** Add and remove key-value pairs dynamically.  \n",
    "✅ **Advanced:** Create a nested dictionary and access elements inside it.  \n"
   ]
  }
 ],
 "metadata": {},
 "nbformat": 4,
 "nbformat_minor": 5
}