{
 "cells": [
  {
   "cell_type": "markdown",
   "id": "790b30b0",
   "metadata": {},
   "source": [
    "🐍 Exception Handling in Python"
   ]
  },
  {
   "cell_type": "markdown",
   "id": "00c1d590",
   "metadata": {},
   "source": [
    "Exception handling is a mechanism to respond to runtime errors gracefully without crashing the program."
   ]
  },
  {
   "cell_type": "markdown",
   "id": "d6060843",
   "metadata": {},
   "source": [
    "🔹 Why Use Exception Handling?\n",
    "\n",
    "Prevent program crashes\n",
    "\n",
    "Handle unexpected input or behavior\n",
    "\n",
    "Maintain clean and readable error-handling logic\n",
    "\n"
   ]
  },
  {
   "cell_type": "markdown",
   "id": "c762c9a9",
   "metadata": {},
   "source": [
    "Basic Syntax"
   ]
  },
  {
   "cell_type": "code",
   "execution_count": null,
   "id": "b0b104e0",
   "metadata": {},
   "outputs": [],
   "source": [
    "try:\n",
    "    # Code that might raise an exception\n",
    "    risky_operation() # type: ignore\n",
    "except ExceptionType: # type: ignore\n",
    "    # Handle the exception\n",
    "    print(\"An error occurred\")\n"
   ]
  },
  {
   "cell_type": "markdown",
   "id": "63d24550",
   "metadata": {},
   "source": [
    "Keywords"
   ]
  },
  {
   "cell_type": "markdown",
   "id": "1fec8d21",
   "metadata": {},
   "source": [
    "Keyword | Description\n",
    "try | Wraps code that may raise an exception\n",
    "except | Handles the exception if raised\n",
    "else | Executes if no exception occurs in try block\n",
    "finally | Always executes (used for cleanup)"
   ]
  },
  {
   "cell_type": "code",
   "execution_count": null,
   "id": "5face3db",
   "metadata": {},
   "outputs": [],
   "source": [
    "try:\n",
    "    number = int(input(\"Enter a number: \"))\n",
    "    result = 10 / number\n",
    "except ZeroDivisionError:\n",
    "    print(\"Cannot divide by zero.\")\n",
    "except ValueError:\n",
    "    print(\"Invalid input.\")\n",
    "else:\n",
    "    print(f\"Result: {result}\")\n",
    "finally:\n",
    "    print(\"Execution complete.\")\n"
   ]
  },
  {
   "cell_type": "markdown",
   "id": "90607b36",
   "metadata": {},
   "source": [
    "Common Built-in Exceptions"
   ]
  },
  {
   "cell_type": "markdown",
   "id": "c7b985d0",
   "metadata": {},
   "source": [
    "Exception | Description\n",
    "ZeroDivisionError | Division by zero\n",
    "ValueError | Invalid type/value\n",
    "TypeError | Wrong data type\n",
    "IndexError | List index out of range\n",
    "KeyError | Dictionary key not found\n",
    "FileNotFoundError | File does not exist"
   ]
  },
  {
   "cell_type": "code",
   "execution_count": null,
   "id": "cc2bc131",
   "metadata": {},
   "outputs": [],
   "source": [
    "class CustomError(Exception):\n",
    "    pass\n",
    "\n",
    "try:\n",
    "    raise CustomError(\"Something custom went wrong\")\n",
    "except CustomError as e:\n",
    "    print(\"Caught custom exception:\", e)\n"
   ]
  },
  {
   "cell_type": "code",
   "execution_count": null,
   "id": "5bf86919",
   "metadata": {},
   "outputs": [],
   "source": [
    "try:\n",
    "    num = int(input(\"Enter a number: \"))\n",
    "    result = 10 / num\n",
    "    print(f\"Result: {result}\")\n",
    "except ZeroDivisionError:\n",
    "    print(\"You can't divide by zero!\")\n",
    "except ValueError:\n",
    "    print(\"Please enter a valid number.\")\n",
    "else:\n",
    "    print(\"Operation successful.\")\n",
    "finally:\n",
    "    print(\"Execution completed.\")\n"
   ]
  },
  {
   "cell_type": "code",
   "execution_count": null,
   "id": "7c75ffa1",
   "metadata": {},
   "outputs": [],
   "source": [
    "class MyError(Exception):\n",
    "    pass\n",
    "\n",
    "try:\n",
    "    raise MyError(\"Something went wrong!\")\n",
    "except MyError as e:\n",
    "    print(e)\n"
   ]
  },
  {
   "cell_type": "code",
   "execution_count": null,
   "id": "bd0ef346",
   "metadata": {},
   "outputs": [],
   "source": [
    "# ZeroDivisionError\n",
    "try:\n",
    "    result = 10 / 0\n",
    "except ZeroDivisionError:\n",
    "    print(\"Caught ZeroDivisionError: Cannot divide by zero.\")\n",
    "\n",
    "# ValueError\n",
    "try:\n",
    "    number = int(\"abc\")\n",
    "except ValueError:\n",
    "    print(\"Caught ValueError: Invalid literal for int().\")\n",
    "\n",
    "# TypeError\n",
    "try:\n",
    "    result = \"2\" + 2\n",
    "except TypeError:\n",
    "    print(\"Caught TypeError: Cannot add str and int.\")\n",
    "\n",
    "# IndexError\n",
    "try:\n",
    "    my_list = [1, 2, 3]\n",
    "    print(my_list[5])\n",
    "except IndexError:\n",
    "    print(\"Caught IndexError: List index out of range.\")\n",
    "\n",
    "# KeyError\n",
    "try:\n",
    "    my_dict = {\"name\": \"Alice\"}\n",
    "    print(my_dict[\"age\"])\n",
    "except KeyError:\n",
    "    print(\"Caught KeyError: Key not found in dictionary.\")\n",
    "\n",
    "# FileNotFoundError\n",
    "try:\n",
    "    with open(\"non_existing_file.txt\", \"r\") as file:\n",
    "        content = file.read()\n",
    "except FileNotFoundError:\n",
    "    print(\"Caught FileNotFoundError: File does not exist.\")\n"
   ]
  },
  {
   "cell_type": "markdown",
   "id": "77994e80",
   "metadata": {},
   "source": [
    "Caught ZeroDivisionError: Cannot divide by zero.\n",
    "Caught ValueError: Invalid literal for int().\n",
    "Caught TypeError: Cannot add str and int.\n",
    "Caught IndexError: List index out of range.\n",
    "Caught KeyError: Key not found in dictionary.\n",
    "Caught FileNotFoundError: File does not exist."
   ]
  },
  {
   "cell_type": "markdown",
   "id": "8bd2894d",
   "metadata": {},
   "source": [
    " Basic finally Example"
   ]
  },
  {
   "cell_type": "code",
   "execution_count": null,
   "id": "99444e84",
   "metadata": {},
   "outputs": [],
   "source": [
    "try:\n",
    "    num = int(input(\"Enter a number: \"))\n",
    "    result = 10 / num\n",
    "    print(\"Result:\", result)\n",
    "except ZeroDivisionError:\n",
    "    print(\"You can't divide by zero!\")\n",
    "except ValueError:\n",
    "    print(\"Invalid input. Please enter a number.\")\n",
    "finally:\n",
    "    print(\"This runs no matter what.\")\n"
   ]
  },
  {
   "cell_type": "code",
   "execution_count": null,
   "id": "9cd70c6d",
   "metadata": {},
   "outputs": [],
   "source": [
    "try:\n",
    "    file = open(\"file.txt\", \"r\")\n",
    "    data = file.read()\n",
    "    print(data)\n",
    "except FileNotFoundError:\n",
    "    print(\"File not found.\")\n",
    "finally:\n",
    "    print(\"Closing file (if it was opened).\")\n",
    "    try:\n",
    "        file.close()\n",
    "    except:\n",
    "        pass  # file was never opened\n"
   ]
  },
  {
   "cell_type": "markdown",
   "id": "603b2bf8",
   "metadata": {},
   "source": [
    "🔹 Best Practices\n",
    "\n",
    "Be specific with except clauses.\n",
    "\n",
    "Use finally for cleanup actions.\n",
    "\n",
    "Avoid catching broad exceptions like except: unless necessary.\n",
    "\n",
    "Log exceptions for debugging in production code."
   ]
  }
 ],
 "metadata": {
  "kernelspec": {
   "display_name": "base",
   "language": "python",
   "name": "python3"
  },
  "language_info": {
   "name": "python",
   "version": "3.12.9"
  }
 },
 "nbformat": 4,
 "nbformat_minor": 5
}
