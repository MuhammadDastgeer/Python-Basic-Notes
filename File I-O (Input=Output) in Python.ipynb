{
 "cells": [
  {
   "cell_type": "markdown",
   "id": "0904dcb3",
   "metadata": {},
   "source": [
    "File I/O (Input/Output) in Python"
   ]
  },
  {
   "cell_type": "code",
   "execution_count": null,
   "id": "704468f8",
   "metadata": {},
   "outputs": [],
   "source": [
    "file = open('filename.txt', 'mode')"
   ]
  },
  {
   "cell_type": "markdown",
   "id": "3ddd7f4f",
   "metadata": {},
   "source": [
    "Modes:\n",
    "\n",
    "'r' – Read (default). File must exist.\n",
    "\n",
    "'w' – Write. Creates new or overwrites file.\n",
    "\n",
    "'a' – Append. Adds to end of file.\n",
    "\n",
    "'b' – Binary mode.\n",
    "\n",
    "'t' – Text mode (default).\n",
    "\n",
    "'r+' – Read and write."
   ]
  },
  {
   "cell_type": "code",
   "execution_count": 6,
   "id": "88fd22cb",
   "metadata": {},
   "outputs": [],
   "source": [
    "# Ensure the file exists before reading\n",
    "with open('file.txt', 'w') as file:\n",
    "    file.write(\"This is a sample content.\\n\")\n",
    "\n"
   ]
  },
  {
   "cell_type": "code",
   "execution_count": 7,
   "id": "e4b9b288",
   "metadata": {},
   "outputs": [
    {
     "name": "stdout",
     "output_type": "stream",
     "text": [
      "This is a sample content.\n",
      "\n"
     ]
    }
   ],
   "source": [
    "# Read the entire content\n",
    "with open('file.txt', 'r') as file:\n",
    "    content = file.read()\n",
    "    print(content)"
   ]
  },
  {
   "cell_type": "code",
   "execution_count": 8,
   "id": "435a22a1",
   "metadata": {},
   "outputs": [],
   "source": [
    "with open('file.txt', 'a') as file:\n",
    "    file.write(\"Appending this line.\\n\")"
   ]
  },
  {
   "cell_type": "markdown",
   "id": "b5502beb",
   "metadata": {},
   "source": [
    " Writing to Files"
   ]
  },
  {
   "cell_type": "code",
   "execution_count": 9,
   "id": "1d91b151",
   "metadata": {},
   "outputs": [],
   "source": [
    "# Write (overwrites file)\n",
    "with open('file.txt', 'w') as file:\n",
    "    file.write(\"Hello, world!\\n\")\n",
    "\n",
    "# Append to a file\n",
    "with open('file.txt', 'a') as file:\n",
    "    file.write(\"Appending this line.\\n\")\n"
   ]
  },
  {
   "cell_type": "markdown",
   "id": "4de64a82",
   "metadata": {},
   "source": [
    "Working with Binary Files"
   ]
  },
  {
   "cell_type": "code",
   "execution_count": 11,
   "id": "67b4a899",
   "metadata": {},
   "outputs": [],
   "source": [
    "# Read binary\n",
    "with open('image.png', 'rb') as file:\n",
    "    data = file.read()\n",
    "\n",
    "# Write binary\n",
    "with open('copy.png', 'wb') as file:\n",
    "    file.write(data)\n"
   ]
  },
  {
   "cell_type": "markdown",
   "id": "aa8e34f2",
   "metadata": {},
   "source": [
    "Always Use with"
   ]
  },
  {
   "cell_type": "code",
   "execution_count": 12,
   "id": "bf70e65b",
   "metadata": {},
   "outputs": [],
   "source": [
    "with open('file.txt', 'r') as file:\n",
    "    data = file.read()"
   ]
  },
  {
   "cell_type": "markdown",
   "id": "28e61ec9",
   "metadata": {},
   "source": [
    "Importing JSON Module"
   ]
  },
  {
   "cell_type": "code",
   "execution_count": 13,
   "id": "b6ed00f8",
   "metadata": {},
   "outputs": [],
   "source": [
    "import json"
   ]
  },
  {
   "cell_type": "markdown",
   "id": "8d7ec677",
   "metadata": {},
   "source": [
    " Writing JSON to a File"
   ]
  },
  {
   "cell_type": "code",
   "execution_count": 14,
   "id": "b0219c5c",
   "metadata": {},
   "outputs": [],
   "source": [
    "import json\n",
    "\n",
    "data = {\n",
    "    \"name\": \"Dastgeer\",\n",
    "    \"age\": 25,\n",
    "    \"languages\": [\"Python\", \"JavaScript\"]\n",
    "}\n",
    "\n",
    "with open('data.json', 'w') as file:\n",
    "    json.dump(data, file, indent=4)  # `indent=4` makes it pretty\n"
   ]
  },
  {
   "cell_type": "markdown",
   "id": "400ed4d1",
   "metadata": {},
   "source": [
    "Reading JSON from a File"
   ]
  },
  {
   "cell_type": "code",
   "execution_count": 15,
   "id": "7a280e54",
   "metadata": {},
   "outputs": [
    {
     "name": "stdout",
     "output_type": "stream",
     "text": [
      "{'name': 'Dastgeer', 'age': 25, 'languages': ['Python', 'JavaScript']}\n",
      "Dastgeer\n"
     ]
    }
   ],
   "source": [
    "import json\n",
    "\n",
    "with open('data.json', 'r') as file:\n",
    "    data = json.load(file)\n",
    "\n",
    "print(data)\n",
    "print(data['name'])  # Access values just like a dictionary\n"
   ]
  },
  {
   "cell_type": "markdown",
   "id": "91386a18",
   "metadata": {},
   "source": [
    "Working with JSON Strings"
   ]
  },
  {
   "cell_type": "code",
   "execution_count": 16,
   "id": "921f0d06",
   "metadata": {},
   "outputs": [
    {
     "name": "stdout",
     "output_type": "stream",
     "text": [
      "{\"name\": \"Dastgeer\", \"age\": 25, \"languages\": [\"Python\", \"JavaScript\"]}\n",
      "['Python', 'JavaScript']\n"
     ]
    }
   ],
   "source": [
    "# Convert Python to JSON string\n",
    "json_string = json.dumps(data)\n",
    "print(json_string)\n",
    "\n",
    "# Convert JSON string to Python\n",
    "json_data = json.loads(json_string)\n",
    "print(json_data['languages'])"
   ]
  },
  {
   "cell_type": "markdown",
   "id": "d9c64b4b",
   "metadata": {},
   "source": [
    "🔹 Notes\n",
    "JSON supports basic data types: dict, list, str, int, float, bool, and None."
   ]
  }
 ],
 "metadata": {
  "kernelspec": {
   "display_name": "base",
   "language": "python",
   "name": "python3"
  },
  "language_info": {
   "codemirror_mode": {
    "name": "ipython",
    "version": 3
   },
   "file_extension": ".py",
   "mimetype": "text/x-python",
   "name": "python",
   "nbconvert_exporter": "python",
   "pygments_lexer": "ipython3",
   "version": "3.12.9"
  }
 },
 "nbformat": 4,
 "nbformat_minor": 5
}
