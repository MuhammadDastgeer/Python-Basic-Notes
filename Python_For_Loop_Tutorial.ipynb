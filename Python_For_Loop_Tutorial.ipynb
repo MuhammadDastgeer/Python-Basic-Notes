{
 "cells": [
  {
   "cell_type": "markdown",
   "id": "a0b7ecf6",
   "metadata": {},
   "source": [
    "\n",
    "# Python For Loops - A Complete Guide\n",
    "\n",
    "This notebook will cover everything about Python `for` loops — from basic concepts to advanced operations.\n"
   ]
  },
  {
   "cell_type": "markdown",
   "id": "d1d06daf",
   "metadata": {},
   "source": [
    "## 1. Introduction to For Loops"
   ]
  },
  {
   "cell_type": "markdown",
   "id": "ccbc5bc2",
   "metadata": {},
   "source": [
    "\n",
    "### What is a For Loop?\n",
    "- A `for` loop is used to **iterate over a sequence** (like a list, tuple, set, dictionary, or string).  \n",
    "- It repeats a block of code **for each element** in the sequence.  \n",
    "- The loop ends when all elements have been processed.  \n",
    "\n",
    "### Why use For Loops?\n",
    "- To reduce code repetition.  \n",
    "- To process elements in a collection.  \n",
    "- To automate tasks that require repetition.  \n",
    "\n",
    "### Syntax of a For Loop:\n",
    "```python\n",
    "for item in sequence:\n",
    "    # Code to execute for each item\n",
    "```\n"
   ]
  },
  {
   "cell_type": "code",
   "execution_count": 7,
   "id": "1171835f",
   "metadata": {},
   "outputs": [
    {
     "name": "stdout",
     "output_type": "stream",
     "text": [
      "apple\n",
      "banana\n",
      "cherry\n"
     ]
    }
   ],
   "source": [
    "# Example: Basic for loop with a list\n",
    "fruits = ['apple', 'banana', 'cherry']\n",
    "for fruit in fruits:\n",
    "    print(fruit)"
   ]
  },
  {
   "cell_type": "markdown",
   "id": "b0b391e3",
   "metadata": {},
   "source": [
    "## 2. Looping Through Different Data Types"
   ]
  },
  {
   "cell_type": "code",
   "execution_count": 9,
   "id": "a422d3ee",
   "metadata": {},
   "outputs": [
    {
     "name": "stdout",
     "output_type": "stream",
     "text": [
      "10\n",
      "20\n",
      "30\n"
     ]
    }
   ],
   "source": [
    "# Looping through a list\n",
    "# numbers = [1, 2, 3, 4, 5]\n",
    "# for num in numbers:\n",
    "#     print(num)\n",
    "\n",
    "# Looping through a tuple\n",
    "my_tuple = (10, 20, 30)\n",
    "for value in my_tuple:\n",
    "    print(value)\n",
    "\n",
    "# Looping through a set\n",
    "# my_set = {100, 200, 300}\n",
    "# for value in my_set:\n",
    "#     print(value)\n",
    "\n",
    "# # Looping through a string\n",
    "# word = \"Python\"\n",
    "# for char in word:\n",
    "#     print(char)\n",
    "\n",
    "# # Looping through a dictionary\n",
    "# person = {'name': 'John', 'age': 30}\n",
    "# for key, value in person.items():\n",
    "#     print(f\"{key}: {value}\")"
   ]
  },
  {
   "cell_type": "markdown",
   "id": "44f1729b",
   "metadata": {},
   "source": [
    "## 3. Using the `range()` Function"
   ]
  },
  {
   "cell_type": "code",
   "execution_count": 11,
   "id": "521586f8",
   "metadata": {},
   "outputs": [
    {
     "name": "stdout",
     "output_type": "stream",
     "text": [
      "0\n",
      "1\n",
      "2\n",
      "3\n",
      "4\n",
      "5\n"
     ]
    }
   ],
   "source": [
    "# range(start, stop, step)\n",
    "# Start from 0 (default) to 5 (exclusive)\n",
    "for i in range(6):\n",
    "    print(i)\n",
    "\n",
    "# Start from 2 to 10 with a step of 2\n",
    "# for i in range(2, 10, 2):\n",
    "#     print(i)\n",
    "\n",
    "# # Reverse order using a negative step\n",
    "# for i in range(10, 0, -2):\n",
    "#     print(i)"
   ]
  },
  {
   "cell_type": "markdown",
   "id": "bc87a1bc",
   "metadata": {},
   "source": [
    "## 4. Using `else` with For Loops"
   ]
  },
  {
   "cell_type": "code",
   "execution_count": null,
   "id": "a1a05c47",
   "metadata": {},
   "outputs": [],
   "source": [
    "# else block executes when loop finishes normally (no break)\n",
    "for i in range(5):\n",
    "    print(i)\n",
    "else:\n",
    "    print(\"Loop completed successfully!\")"
   ]
  },
  {
   "cell_type": "markdown",
   "id": "cb5e6eb0",
   "metadata": {},
   "source": [
    "## 5. Break and Continue"
   ]
  },
  {
   "cell_type": "code",
   "execution_count": 15,
   "id": "cfc1a7a1",
   "metadata": {},
   "outputs": [
    {
     "name": "stdout",
     "output_type": "stream",
     "text": [
      "0\n",
      "1\n",
      "2\n",
      "3\n",
      "4\n",
      "5\n",
      "6\n",
      "7\n",
      "8\n",
      "9\n"
     ]
    }
   ],
   "source": [
    "# break - Terminates the loop early\n",
    "# for i in range(10):\n",
    "#     if i == 5:\n",
    "#         break\n",
    "#     print(i)\n",
    "\n",
    "# continue - Skips current iteration and moves to the next\n",
    "for a in range(10):\n",
    "    if i == 5:\n",
    "        continue\n",
    "    print(a)"
   ]
  },
  {
   "cell_type": "code",
   "execution_count": 14,
   "id": "d7006f35",
   "metadata": {},
   "outputs": [
    {
     "name": "stdout",
     "output_type": "stream",
     "text": [
      "Index 0: apple\n",
      "Index 1: banana\n",
      "Index 2: cherry\n"
     ]
    }
   ],
   "source": [
    "# Example using enumerate()\n",
    "fruits = ['apple', 'banana', 'cherry']\n",
    "for index, fruit in enumerate(fruits):\n",
    "    print(f\"Index {index}: {fruit}\")"
   ]
  },
  {
   "cell_type": "markdown",
   "id": "dd76b473",
   "metadata": {},
   "source": [
    "## 10. Unpacking in For Loops"
   ]
  },
  {
   "cell_type": "markdown",
   "id": "d38d6737",
   "metadata": {},
   "source": [
    "## 11. Common Pitfalls and How to Avoid Them"
   ]
  },
  {
   "cell_type": "markdown",
   "id": "50bfd3b3",
   "metadata": {},
   "source": [
    "\n",
    "- Forgetting to update the loop variable in a `while` loop.  \n",
    "- Modifying a list while iterating over it (causes unexpected behavior).  \n",
    "- Forgetting that `break` and `continue` only affect the innermost loop.  \n"
   ]
  },
  {
   "cell_type": "markdown",
   "id": "0105552c",
   "metadata": {},
   "source": [
    "## 12. Best Practices"
   ]
  },
  {
   "cell_type": "markdown",
   "id": "30c520e5",
   "metadata": {},
   "source": [
    "\n",
    "- Use `for` loops for simple and predictable iterations.  \n",
    "- Use `enumerate()` and `zip()` for cleaner, more readable loops.  \n",
    "- Use list comprehensions when creating lists from loops.  \n",
    "- Keep loop bodies small and readable.  \n"
   ]
  },
  {
   "cell_type": "markdown",
   "id": "b2c6c899",
   "metadata": {},
   "source": [
    "## 13. Exercises and Challenges"
   ]
  },
  {
   "cell_type": "markdown",
   "id": "fa3650f1",
   "metadata": {},
   "source": [
    "\n",
    "✅ **Beginner:** Create a loop that prints numbers from 1 to 10.  \n",
    "✅ **Intermediate:** Create a loop that sums all even numbers from 1 to 100.  \n",
    "✅ **Advanced:** Use a nested loop to create a multiplication table (1-10).  \n"
   ]
  }
 ],
 "metadata": {
  "kernelspec": {
   "display_name": "base",
   "language": "python",
   "name": "python3"
  },
  "language_info": {
   "codemirror_mode": {
    "name": "ipython",
    "version": 3
   },
   "file_extension": ".py",
   "mimetype": "text/x-python",
   "name": "python",
   "nbconvert_exporter": "python",
   "pygments_lexer": "ipython3",
   "version": "3.12.9"
  }
 },
 "nbformat": 4,
 "nbformat_minor": 5
}
