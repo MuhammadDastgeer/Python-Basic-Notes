{
 "cells": [
  {
   "cell_type": "markdown",
   "id": "56e089e8",
   "metadata": {},
   "source": [
    "\n",
    "# Python Operators - A Complete Guide\n",
    "\n",
    "This notebook covers **all types of Python operators** with detailed explanations and examples.\n"
   ]
  },
  {
   "cell_type": "markdown",
   "id": "b916fa25",
   "metadata": {},
   "source": [
    "## 1. What are Operators?"
   ]
  },
  {
   "cell_type": "markdown",
   "id": "c226d33b",
   "metadata": {},
   "source": [
    "\n",
    "Operators are special symbols or keywords used to **perform operations** on values and variables.  \n",
    "Python supports the following types of operators:  \n",
    "1. Arithmetic Operators  \n",
    "2. Comparison Operators  \n",
    "3. Logical Operators  \n",
    "4. Assignment Operators  \n",
    "5. Bitwise Operators  \n",
    "6. Identity Operators  \n",
    "7. Membership Operators  \n"
   ]
  },
  {
   "cell_type": "markdown",
   "id": "23add191",
   "metadata": {},
   "source": [
    "## 2. Arithmetic Operators"
   ]
  },
  {
   "cell_type": "markdown",
   "id": "ebd1a939",
   "metadata": {},
   "source": [
    "\n",
    "Arithmetic operators are used to perform basic mathematical operations:  \n",
    "| Operator | Description | Example |\n",
    "|:--------|:------------|:--------|\n",
    "| `+`     | Addition     | `x + y` |\n",
    "| `-`     | Subtraction  | `x - y` |\n",
    "| `*`     | Multiplication| `x * y` |\n",
    "| `/`     | Division     | `x / y` |\n",
    "| `%`     | Modulus (Remainder) | `x % y` |\n",
    "| `**`    | Exponentiation | `x ** y` |\n",
    "| `//`    | Floor Division | `x // y` |\n"
   ]
  },
  {
   "cell_type": "code",
   "execution_count": 1,
   "id": "26757af9",
   "metadata": {},
   "outputs": [
    {
     "name": "stdout",
     "output_type": "stream",
     "text": [
      "Addition: 13\n",
      "Subtraction: 7\n",
      "Multiplication: 30\n",
      "Division: 3.3333333333333335\n",
      "Modulus: 1\n",
      "Exponentiation: 1000\n",
      "Floor Division: 3\n"
     ]
    }
   ],
   "source": [
    "# Examples of Arithmetic Operators\n",
    "x = 10\n",
    "y = 3\n",
    "\n",
    "print(\"Addition:\", x + y)           # 10 + 3 = 13\n",
    "print(\"Subtraction:\", x - y)        # 10 - 3 = 7\n",
    "print(\"Multiplication:\", x * y)     # 10 * 3 = 30\n",
    "print(\"Division:\", x / y)           # 10 / 3 = 3.333\n",
    "print(\"Modulus:\", x % y)            # 10 % 3 = 1\n",
    "print(\"Exponentiation:\", x ** y)    # 10 ** 3 = 1000\n",
    "print(\"Floor Division:\", x // y)    # 10 // 3 = 3"
   ]
  },
  {
   "cell_type": "markdown",
   "id": "31642ca1",
   "metadata": {},
   "source": [
    "## 3. Comparison Operators"
   ]
  },
  {
   "cell_type": "markdown",
   "id": "78f30c7a",
   "metadata": {},
   "source": [
    "\n",
    "Comparison operators are used to **compare values** and return a boolean (`True` or `False`).  \n",
    "| Operator | Description | Example |\n",
    "|:--------|:------------|:--------|\n",
    "| `==`    | Equal to     | `x == y` |\n",
    "| `!=`    | Not equal to | `x != y` |\n",
    "| `>`     | Greater than | `x > y` |\n",
    "| `<`     | Less than    | `x < y` |\n",
    "| `>=`    | Greater than or equal to | `x >= y` |\n",
    "| `<=`    | Less than or equal to | `x <= y` |\n"
   ]
  },
  {
   "cell_type": "code",
   "execution_count": null,
   "id": "78341315",
   "metadata": {},
   "outputs": [],
   "source": [
    "# Examples of Comparison Operators\n",
    "a = 5\n",
    "b = 10\n",
    "\n",
    "print(a == b)   # False\n",
    "print(a != b)   # True\n",
    "print(a > b)    # False\n",
    "print(a < b)    # True\n",
    "print(a >= b)   # False\n",
    "print(a <= b)   # True"
   ]
  },
  {
   "cell_type": "markdown",
   "id": "bee5d256",
   "metadata": {},
   "source": [
    "## 4. Logical Operators"
   ]
  },
  {
   "cell_type": "markdown",
   "id": "88d00770",
   "metadata": {},
   "source": [
    "\n",
    "Logical operators are used to combine conditional statements:  \n",
    "| Operator | Description | Example |\n",
    "|:---------|-------------|:--------|\n",
    "| `and`   | Returns `True` if both conditions are true | `x > 5 and x < 10` |\n",
    "| `or`    | Returns `True` if at least one condition is true | `x > 5 or x < 3` |\n",
    "| `not`   | Reverses the result | `not(x > 5)` |\n"
   ]
  },
  {
   "cell_type": "code",
   "execution_count": null,
   "id": "7569366c",
   "metadata": {},
   "outputs": [],
   "source": [
    "# Examples of Logical Operators\n",
    "x = 8\n",
    "\n",
    "print(x > 5 and x < 10)  # True\n",
    "print(x > 10 or x < 5)   # False\n",
    "print(not(x > 5))        # False"
   ]
  },
  {
   "cell_type": "markdown",
   "id": "50759b82",
   "metadata": {},
   "source": [
    "## 5. Assignment Operators"
   ]
  },
  {
   "cell_type": "markdown",
   "id": "c6eacc34",
   "metadata": {},
   "source": [
    "\n",
    "Assignment operators are used to assign values to variables:  \n",
    "| Operator | Description | Example |\n",
    "|:---------|-------------|:--------|\n",
    "| `=`     | Assign value | `x = 5` |\n",
    "| `+=`    | Add and assign | `x += 3` (same as `x = x + 3`) |\n",
    "| `-=`    | Subtract and assign | `x -= 3` |\n",
    "| `*=`    | Multiply and assign | `x *= 3` |\n",
    "| `/=`    | Divide and assign | `x /= 3` |\n",
    "| `%=`    | Modulus and assign | `x %= 3` |\n",
    "| `**=`   | Exponent and assign | `x **= 3` |\n",
    "| `//=`   | Floor divide and assign | `x //= 3` |\n"
   ]
  },
  {
   "cell_type": "code",
   "execution_count": null,
   "id": "1494728f",
   "metadata": {},
   "outputs": [],
   "source": [
    "# Examples of Assignment Operators\n",
    "x = 5\n",
    "x += 3\n",
    "print(x) # 8\n",
    "\n",
    "x -= 2\n",
    "print(x) # 6\n",
    "\n",
    "x *= 2\n",
    "print(x) # 12\n",
    "\n",
    "x /= 3\n",
    "print(x) # 4.0"
   ]
  },
  {
   "cell_type": "markdown",
   "id": "7d566fe7",
   "metadata": {},
   "source": [
    "## 6. Bitwise Operators"
   ]
  },
  {
   "cell_type": "markdown",
   "id": "7a1568d5",
   "metadata": {},
   "source": [
    "\n",
    "Bitwise operators work on bits and perform operations bit by bit:  \n",
    "| Operator | Description | Example |\n",
    "|:---------|-------------|:--------|\n",
    "| `&`     | AND          | `x & y` |\n",
    "| `|`     | OR           | `x | y` |\n",
    "| `^`     | XOR          | `x ^ y` |\n",
    "| `~`     | NOT          | `~x` |\n",
    "| `<<`    | Left Shift    | `x << 2` |\n",
    "| `>>`    | Right Shift   | `x >> 2` |\n"
   ]
  },
  {
   "cell_type": "code",
   "execution_count": null,
   "id": "e82af210",
   "metadata": {},
   "outputs": [],
   "source": [
    "# Examples of Bitwise Operators\n",
    "x = 10\n",
    "y = 4\n",
    "\n",
    "print(x & y)   # 0\n",
    "print(x | y)   # 14\n",
    "print(x ^ y)   # 14\n",
    "print(~x)      # -11\n",
    "print(x << 2)  # 40\n",
    "print(x >> 2)  # 2"
   ]
  },
  {
   "cell_type": "markdown",
   "id": "4cc3c3b7",
   "metadata": {},
   "source": [
    "## 7. Identity Operators"
   ]
  },
  {
   "cell_type": "code",
   "execution_count": null,
   "id": "a3f19bdb",
   "metadata": {},
   "outputs": [],
   "source": [
    "# Identity Operators Example\n",
    "a = [1, 2, 3]\n",
    "b = [1, 2, 3]\n",
    "c = a\n",
    "\n",
    "print(a is b)   # False\n",
    "print(a is c)   # True\n",
    "print(a is not b) # True"
   ]
  },
  {
   "cell_type": "markdown",
   "id": "fd93fc55",
   "metadata": {},
   "source": [
    "## 8. Membership Operators"
   ]
  },
  {
   "cell_type": "code",
   "execution_count": null,
   "id": "be3f16e6",
   "metadata": {},
   "outputs": [],
   "source": [
    "# Membership Operators Example\n",
    "fruits = ['apple', 'banana', 'cherry']\n",
    "print('apple' in fruits)    # True\n",
    "print('grape' not in fruits) # True"
   ]
  },
  {
   "cell_type": "markdown",
   "id": "d1dbdbb0",
   "metadata": {},
   "source": [
    "## 9. Exercises and Challenges"
   ]
  },
  {
   "cell_type": "markdown",
   "id": "1a507a93",
   "metadata": {},
   "source": [
    "\n",
    "✅ **Beginner:** Create a program that checks if a number is even using modulus.  \n",
    "✅ **Intermediate:** Create a program that counts the number of vowels in a string.  \n",
    "✅ **Advanced:** Create a program that combines bitwise and logical operators.  \n"
   ]
  }
 ],
 "metadata": {
  "kernelspec": {
   "display_name": "base",
   "language": "python",
   "name": "python3"
  },
  "language_info": {
   "codemirror_mode": {
    "name": "ipython",
    "version": 3
   },
   "file_extension": ".py",
   "mimetype": "text/x-python",
   "name": "python",
   "nbconvert_exporter": "python",
   "pygments_lexer": "ipython3",
   "version": "3.12.9"
  }
 },
 "nbformat": 4,
 "nbformat_minor": 5
}
